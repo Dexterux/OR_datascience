{
 "cells": [
  {
   "cell_type": "markdown",
   "metadata": {
    "slideshow": {
     "slide_type": "slide"
    }
   },
   "source": [
    "# Flight assignment\n",
    "\n",
    "A small airlane company produces a weekly plan for the assignment of pilots and co-pilots to flights.\n",
    "In a pre-processing phase, the list of flights has been analysed to identify incompatible flights (those that cannot have the same crew members, like flights departing at the same hour). \n",
    "\n",
    "Our company follows these rules:\n",
    "- each flight needs a pilot and a co-pilot to depart. \n",
    "- both pilots and co-pilots cannot exceed a weekly amount of flight hours.\n",
    "- each pilot (resp. co-pilot) is paid based on several factors (e.g., the experience, the rank, flight hours)\n",
    "\n",
    "The airplane company what to produce a weekly plan that minimizes the costs."
   ]
  },
  {
   "cell_type": "markdown",
   "metadata": {
    "slideshow": {
     "slide_type": "subslide"
    }
   },
   "source": [
    "## Data\n",
    "\n",
    "$P:$ set of pilots  \n",
    "$C:$ set of co-pilots  \n",
    "$V:$ set of flights  \n",
    "$I_v \\subseteq V :$ flights incompatibilities of flight $v \\in V$  \n",
    "$f_{pv}:$ cost per hour of pilot $p\\in P$ if assigned to flight $v \\in V$  \n",
    "$g_{cv}:$ cost per hour of co-pilot $c\\in C$ if assigned to flight $v \\in V$  \n",
    "$q:$ weekly amount of flight hours for each pilot and co-pilot\n",
    "$t_v:$ flight hours of flight $v\\in V$\n",
    "\n",
    "## Variables\n",
    "\n",
    "$x_{pv}:$ $1$ if pilot $p$ is assigned to flight $v$, and $0$ otherwise  \n",
    "$y_{cv}:$ $1$ if co-pilot $c$ is assigned to flight $v$, and $0$ otherwise  \n",
    "\n",
    "## Objective function\n",
    "\n",
    "Minimize flight costs\n",
    "$$z^* = \\min \\sum_{v \\in V} t_v \\cdot ( \\sum_{p \\in P} f_{pv} \\cdot x_{pv} + \\sum_{c \\in C} g_{cv} \\cdot y_{cv} ) $$"
   ]
  },
  {
   "cell_type": "markdown",
   "metadata": {
    "slideshow": {
     "slide_type": "subslide"
    }
   },
   "source": [
    "\n",
    "## Constraints\n",
    "\n",
    "One pilot and one co-pilot for each flight\n",
    "$$ \\sum_{p \\in P} x_{pv} = 1, \\forall v \\in V $$  \n",
    "$$ \\sum_{c \\in C} y_{cv} = 1, \\forall v \\in V $$  \n",
    "\n",
    "Do not exceed flight hours for each pilot and co-pilot\n",
    "$$ \\sum_{v \\in V} t_v \\cdot x_{pv} \\le q, \\forall p \\in P $$  \n",
    "$$ \\sum_{v \\in V} t_v \\cdot y_{cv} \\le q, \\forall c \\in C $$\n",
    "\n",
    "Avoid to assign the same crew to two incompatible flights\n",
    "$$ x_{pv} + x_{pv'} \\le 1, \\forall p\\in P, v \\in V, v' \\in I_v $$\n",
    "$$ y_{cv} + y_{cv'} \\le 1, \\forall c\\in C, v \\in V, v' \\in I_v $$"
   ]
  },
  {
   "cell_type": "markdown",
   "metadata": {
    "slideshow": {
     "slide_type": "slide"
    }
   },
   "source": [
    "## Model implementation\n",
    "\n",
    "Data are stored into three `csv` files, one for the crew members, one for the flights, and one for the costs."
   ]
  },
  {
   "cell_type": "code",
   "execution_count": 1,
   "metadata": {},
   "outputs": [],
   "source": [
    "import pandas as pd\n",
    "\n",
    "crew = pd.read_csv(\"crew.csv\")\n",
    "flights = pd.read_csv(\"flights.csv\")\n",
    "costs = pd.read_csv(\"costs.csv\", index_col=0)"
   ]
  },
  {
   "cell_type": "code",
   "execution_count": 2,
   "metadata": {
    "slideshow": {
     "slide_type": "subslide"
    }
   },
   "outputs": [
    {
     "data": {
      "text/html": [
       "<div>\n",
       "<style scoped>\n",
       "    .dataframe tbody tr th:only-of-type {\n",
       "        vertical-align: middle;\n",
       "    }\n",
       "\n",
       "    .dataframe tbody tr th {\n",
       "        vertical-align: top;\n",
       "    }\n",
       "\n",
       "    .dataframe thead th {\n",
       "        text-align: right;\n",
       "    }\n",
       "</style>\n",
       "<table border=\"1\" class=\"dataframe\">\n",
       "  <thead>\n",
       "    <tr style=\"text-align: right;\">\n",
       "      <th></th>\n",
       "      <th>Pilots</th>\n",
       "      <th>Co-pilots</th>\n",
       "    </tr>\n",
       "  </thead>\n",
       "  <tbody>\n",
       "    <tr>\n",
       "      <th>0</th>\n",
       "      <td>Adriana C. Ocampo Uria</td>\n",
       "      <td>Cecilia Payne-Gaposchkin</td>\n",
       "    </tr>\n",
       "    <tr>\n",
       "      <th>1</th>\n",
       "      <td>Albert Einstein</td>\n",
       "      <td>Chien-Shiung Wu</td>\n",
       "    </tr>\n",
       "    <tr>\n",
       "      <th>2</th>\n",
       "      <td>Anna K. Behrensmeyer</td>\n",
       "      <td>Dorothy Hodgkin</td>\n",
       "    </tr>\n",
       "    <tr>\n",
       "      <th>3</th>\n",
       "      <td>Blaise Pascal</td>\n",
       "      <td>Edmond Halley</td>\n",
       "    </tr>\n",
       "    <tr>\n",
       "      <th>4</th>\n",
       "      <td>Caroline Herschel</td>\n",
       "      <td>Edwin Powell Hubble</td>\n",
       "    </tr>\n",
       "  </tbody>\n",
       "</table>\n",
       "</div>"
      ],
      "text/plain": [
       "                   Pilots                 Co-pilots\n",
       "0  Adriana C. Ocampo Uria  Cecilia Payne-Gaposchkin\n",
       "1         Albert Einstein           Chien-Shiung Wu\n",
       "2    Anna K. Behrensmeyer           Dorothy Hodgkin\n",
       "3           Blaise Pascal             Edmond Halley\n",
       "4       Caroline Herschel       Edwin Powell Hubble"
      ]
     },
     "execution_count": 2,
     "metadata": {},
     "output_type": "execute_result"
    }
   ],
   "source": [
    "crew[:5]"
   ]
  },
  {
   "cell_type": "code",
   "execution_count": 3,
   "metadata": {
    "slideshow": {
     "slide_type": "subslide"
    }
   },
   "outputs": [
    {
     "data": {
      "text/html": [
       "<div>\n",
       "<style scoped>\n",
       "    .dataframe tbody tr th:only-of-type {\n",
       "        vertical-align: middle;\n",
       "    }\n",
       "\n",
       "    .dataframe tbody tr th {\n",
       "        vertical-align: top;\n",
       "    }\n",
       "\n",
       "    .dataframe thead th {\n",
       "        text-align: right;\n",
       "    }\n",
       "</style>\n",
       "<table border=\"1\" class=\"dataframe\">\n",
       "  <thead>\n",
       "    <tr style=\"text-align: right;\">\n",
       "      <th></th>\n",
       "      <th>Flights</th>\n",
       "      <th>Time</th>\n",
       "      <th>ZT2898</th>\n",
       "      <th>ZT7947</th>\n",
       "      <th>ZT1277</th>\n",
       "      <th>ZT7456</th>\n",
       "      <th>ZT3554</th>\n",
       "      <th>ZT3234</th>\n",
       "      <th>ZT3821</th>\n",
       "      <th>ZT4311</th>\n",
       "      <th>ZT7579</th>\n",
       "      <th>ZT6742</th>\n",
       "      <th>ZT1557</th>\n",
       "      <th>ZT9968</th>\n",
       "      <th>ZT5269</th>\n",
       "      <th>ZT5845</th>\n",
       "      <th>ZT6743</th>\n",
       "    </tr>\n",
       "  </thead>\n",
       "  <tbody>\n",
       "    <tr>\n",
       "      <th>0</th>\n",
       "      <td>ZT2898</td>\n",
       "      <td>3.0</td>\n",
       "      <td>ZT9968</td>\n",
       "      <td>ZT7456</td>\n",
       "      <td>ZT5845</td>\n",
       "      <td>ZT2898</td>\n",
       "      <td>ZT7947</td>\n",
       "      <td>ZT9968</td>\n",
       "      <td>ZT7579</td>\n",
       "      <td>ZT9968</td>\n",
       "      <td>ZT2898</td>\n",
       "      <td>ZT2898</td>\n",
       "      <td>ZT7947</td>\n",
       "      <td>ZT2898</td>\n",
       "      <td>ZT7947</td>\n",
       "      <td>ZT2898</td>\n",
       "      <td>ZT7947</td>\n",
       "    </tr>\n",
       "    <tr>\n",
       "      <th>1</th>\n",
       "      <td>ZT7947</td>\n",
       "      <td>1.0</td>\n",
       "      <td>ZT7947</td>\n",
       "      <td>ZT6743</td>\n",
       "      <td>ZT3821</td>\n",
       "      <td>ZT7579</td>\n",
       "      <td>ZT1277</td>\n",
       "      <td>ZT7579</td>\n",
       "      <td>ZT6742</td>\n",
       "      <td>ZT7947</td>\n",
       "      <td>ZT6742</td>\n",
       "      <td>ZT5845</td>\n",
       "      <td>ZT1277</td>\n",
       "      <td>ZT7947</td>\n",
       "      <td>ZT1277</td>\n",
       "      <td>ZT6743</td>\n",
       "      <td>ZT1277</td>\n",
       "    </tr>\n",
       "    <tr>\n",
       "      <th>2</th>\n",
       "      <td>ZT1277</td>\n",
       "      <td>1.5</td>\n",
       "      <td>ZT7456</td>\n",
       "      <td>ZT5269</td>\n",
       "      <td>ZT1557</td>\n",
       "      <td>ZT6743</td>\n",
       "      <td>ZT6743</td>\n",
       "      <td>ZT3821</td>\n",
       "      <td>ZT5269</td>\n",
       "      <td>ZT1277</td>\n",
       "      <td>ZT5845</td>\n",
       "      <td>ZT1277</td>\n",
       "      <td>ZT5269</td>\n",
       "      <td>ZT1277</td>\n",
       "      <td>ZT7456</td>\n",
       "      <td>ZT1277</td>\n",
       "      <td>ZT7456</td>\n",
       "    </tr>\n",
       "    <tr>\n",
       "      <th>3</th>\n",
       "      <td>ZT7456</td>\n",
       "      <td>4.0</td>\n",
       "      <td>ZT6742</td>\n",
       "      <td>ZT4311</td>\n",
       "      <td>NaN</td>\n",
       "      <td>ZT4311</td>\n",
       "      <td>ZT3234</td>\n",
       "      <td>ZT7456</td>\n",
       "      <td>ZT7456</td>\n",
       "      <td>ZT6743</td>\n",
       "      <td>ZT7456</td>\n",
       "      <td>ZT7456</td>\n",
       "      <td>ZT3554</td>\n",
       "      <td>NaN</td>\n",
       "      <td>NaN</td>\n",
       "      <td>ZT7456</td>\n",
       "      <td>ZT3554</td>\n",
       "    </tr>\n",
       "    <tr>\n",
       "      <th>4</th>\n",
       "      <td>ZT3554</td>\n",
       "      <td>2.0</td>\n",
       "      <td>ZT4311</td>\n",
       "      <td>ZT3554</td>\n",
       "      <td>NaN</td>\n",
       "      <td>ZT3554</td>\n",
       "      <td>NaN</td>\n",
       "      <td>ZT3554</td>\n",
       "      <td>ZT3554</td>\n",
       "      <td>ZT3554</td>\n",
       "      <td>ZT3554</td>\n",
       "      <td>NaN</td>\n",
       "      <td>NaN</td>\n",
       "      <td>NaN</td>\n",
       "      <td>NaN</td>\n",
       "      <td>NaN</td>\n",
       "      <td>ZT3234</td>\n",
       "    </tr>\n",
       "  </tbody>\n",
       "</table>\n",
       "</div>"
      ],
      "text/plain": [
       "  Flights  Time  ZT2898  ZT7947  ZT1277  ZT7456  ZT3554  ZT3234  ZT3821  \\\n",
       "0  ZT2898   3.0  ZT9968  ZT7456  ZT5845  ZT2898  ZT7947  ZT9968  ZT7579   \n",
       "1  ZT7947   1.0  ZT7947  ZT6743  ZT3821  ZT7579  ZT1277  ZT7579  ZT6742   \n",
       "2  ZT1277   1.5  ZT7456  ZT5269  ZT1557  ZT6743  ZT6743  ZT3821  ZT5269   \n",
       "3  ZT7456   4.0  ZT6742  ZT4311     NaN  ZT4311  ZT3234  ZT7456  ZT7456   \n",
       "4  ZT3554   2.0  ZT4311  ZT3554     NaN  ZT3554     NaN  ZT3554  ZT3554   \n",
       "\n",
       "   ZT4311  ZT7579  ZT6742  ZT1557  ZT9968  ZT5269  ZT5845  ZT6743  \n",
       "0  ZT9968  ZT2898  ZT2898  ZT7947  ZT2898  ZT7947  ZT2898  ZT7947  \n",
       "1  ZT7947  ZT6742  ZT5845  ZT1277  ZT7947  ZT1277  ZT6743  ZT1277  \n",
       "2  ZT1277  ZT5845  ZT1277  ZT5269  ZT1277  ZT7456  ZT1277  ZT7456  \n",
       "3  ZT6743  ZT7456  ZT7456  ZT3554     NaN     NaN  ZT7456  ZT3554  \n",
       "4  ZT3554  ZT3554     NaN     NaN     NaN     NaN     NaN  ZT3234  "
      ]
     },
     "execution_count": 3,
     "metadata": {},
     "output_type": "execute_result"
    }
   ],
   "source": [
    "flights[:5]"
   ]
  },
  {
   "cell_type": "code",
   "execution_count": 4,
   "metadata": {
    "slideshow": {
     "slide_type": "subslide"
    }
   },
   "outputs": [
    {
     "data": {
      "text/html": [
       "<div>\n",
       "<style scoped>\n",
       "    .dataframe tbody tr th:only-of-type {\n",
       "        vertical-align: middle;\n",
       "    }\n",
       "\n",
       "    .dataframe tbody tr th {\n",
       "        vertical-align: top;\n",
       "    }\n",
       "\n",
       "    .dataframe thead th {\n",
       "        text-align: right;\n",
       "    }\n",
       "</style>\n",
       "<table border=\"1\" class=\"dataframe\">\n",
       "  <thead>\n",
       "    <tr style=\"text-align: right;\">\n",
       "      <th></th>\n",
       "      <th>ZT2898</th>\n",
       "      <th>ZT7947</th>\n",
       "      <th>ZT1277</th>\n",
       "      <th>ZT7456</th>\n",
       "      <th>ZT3554</th>\n",
       "      <th>ZT3234</th>\n",
       "      <th>ZT3821</th>\n",
       "      <th>ZT4311</th>\n",
       "      <th>ZT7579</th>\n",
       "      <th>ZT6742</th>\n",
       "      <th>ZT1557</th>\n",
       "      <th>ZT9968</th>\n",
       "      <th>ZT5269</th>\n",
       "      <th>ZT5845</th>\n",
       "      <th>ZT6743</th>\n",
       "    </tr>\n",
       "    <tr>\n",
       "      <th>Pilots</th>\n",
       "      <th></th>\n",
       "      <th></th>\n",
       "      <th></th>\n",
       "      <th></th>\n",
       "      <th></th>\n",
       "      <th></th>\n",
       "      <th></th>\n",
       "      <th></th>\n",
       "      <th></th>\n",
       "      <th></th>\n",
       "      <th></th>\n",
       "      <th></th>\n",
       "      <th></th>\n",
       "      <th></th>\n",
       "      <th></th>\n",
       "    </tr>\n",
       "  </thead>\n",
       "  <tbody>\n",
       "    <tr>\n",
       "      <th>Adriana C. Ocampo Uria</th>\n",
       "      <td>42</td>\n",
       "      <td>49</td>\n",
       "      <td>46</td>\n",
       "      <td>42</td>\n",
       "      <td>49</td>\n",
       "      <td>34</td>\n",
       "      <td>32</td>\n",
       "      <td>41</td>\n",
       "      <td>45</td>\n",
       "      <td>44</td>\n",
       "      <td>43</td>\n",
       "      <td>42</td>\n",
       "      <td>49</td>\n",
       "      <td>37</td>\n",
       "      <td>47</td>\n",
       "    </tr>\n",
       "    <tr>\n",
       "      <th>Albert Einstein</th>\n",
       "      <td>38</td>\n",
       "      <td>48</td>\n",
       "      <td>48</td>\n",
       "      <td>46</td>\n",
       "      <td>35</td>\n",
       "      <td>44</td>\n",
       "      <td>47</td>\n",
       "      <td>43</td>\n",
       "      <td>31</td>\n",
       "      <td>42</td>\n",
       "      <td>40</td>\n",
       "      <td>47</td>\n",
       "      <td>47</td>\n",
       "      <td>33</td>\n",
       "      <td>49</td>\n",
       "    </tr>\n",
       "    <tr>\n",
       "      <th>Anna K. Behrensmeyer</th>\n",
       "      <td>34</td>\n",
       "      <td>43</td>\n",
       "      <td>42</td>\n",
       "      <td>36</td>\n",
       "      <td>30</td>\n",
       "      <td>30</td>\n",
       "      <td>39</td>\n",
       "      <td>42</td>\n",
       "      <td>44</td>\n",
       "      <td>48</td>\n",
       "      <td>48</td>\n",
       "      <td>36</td>\n",
       "      <td>41</td>\n",
       "      <td>42</td>\n",
       "      <td>39</td>\n",
       "    </tr>\n",
       "    <tr>\n",
       "      <th>Blaise Pascal</th>\n",
       "      <td>45</td>\n",
       "      <td>44</td>\n",
       "      <td>50</td>\n",
       "      <td>49</td>\n",
       "      <td>46</td>\n",
       "      <td>32</td>\n",
       "      <td>50</td>\n",
       "      <td>32</td>\n",
       "      <td>37</td>\n",
       "      <td>37</td>\n",
       "      <td>48</td>\n",
       "      <td>39</td>\n",
       "      <td>38</td>\n",
       "      <td>33</td>\n",
       "      <td>43</td>\n",
       "    </tr>\n",
       "    <tr>\n",
       "      <th>Caroline Herschel</th>\n",
       "      <td>49</td>\n",
       "      <td>50</td>\n",
       "      <td>50</td>\n",
       "      <td>30</td>\n",
       "      <td>42</td>\n",
       "      <td>32</td>\n",
       "      <td>30</td>\n",
       "      <td>49</td>\n",
       "      <td>47</td>\n",
       "      <td>44</td>\n",
       "      <td>30</td>\n",
       "      <td>46</td>\n",
       "      <td>31</td>\n",
       "      <td>44</td>\n",
       "      <td>48</td>\n",
       "    </tr>\n",
       "  </tbody>\n",
       "</table>\n",
       "</div>"
      ],
      "text/plain": [
       "                        ZT2898  ZT7947  ZT1277  ZT7456  ZT3554  ZT3234  \\\n",
       "Pilots                                                                   \n",
       "Adriana C. Ocampo Uria      42      49      46      42      49      34   \n",
       "Albert Einstein             38      48      48      46      35      44   \n",
       "Anna K. Behrensmeyer        34      43      42      36      30      30   \n",
       "Blaise Pascal               45      44      50      49      46      32   \n",
       "Caroline Herschel           49      50      50      30      42      32   \n",
       "\n",
       "                        ZT3821  ZT4311  ZT7579  ZT6742  ZT1557  ZT9968  \\\n",
       "Pilots                                                                   \n",
       "Adriana C. Ocampo Uria      32      41      45      44      43      42   \n",
       "Albert Einstein             47      43      31      42      40      47   \n",
       "Anna K. Behrensmeyer        39      42      44      48      48      36   \n",
       "Blaise Pascal               50      32      37      37      48      39   \n",
       "Caroline Herschel           30      49      47      44      30      46   \n",
       "\n",
       "                        ZT5269  ZT5845  ZT6743  \n",
       "Pilots                                          \n",
       "Adriana C. Ocampo Uria      49      37      47  \n",
       "Albert Einstein             47      33      49  \n",
       "Anna K. Behrensmeyer        41      42      39  \n",
       "Blaise Pascal               38      33      43  \n",
       "Caroline Herschel           31      44      48  "
      ]
     },
     "execution_count": 4,
     "metadata": {},
     "output_type": "execute_result"
    }
   ],
   "source": [
    "costs[:5]"
   ]
  },
  {
   "cell_type": "markdown",
   "metadata": {
    "slideshow": {
     "slide_type": "subslide"
    }
   },
   "source": [
    "### Data - Initializing sets\n",
    "\n",
    "We create the abstract model and the sets of pilots $P$, co-pilots $C$, and flights $V$."
   ]
  },
  {
   "cell_type": "code",
   "execution_count": 5,
   "metadata": {},
   "outputs": [],
   "source": [
    "import pyomo.environ as pyopt\n",
    "\n",
    "model = pyopt.AbstractModel()\n",
    "\n",
    "model.P = pyopt.Set(initialize=crew['Pilots'].dropna().tolist())\n",
    "model.C = pyopt.Set(initialize=crew['Co-pilots'].dropna().tolist())\n",
    "model.V = pyopt.Set(initialize=flights['Flights'].tolist())"
   ]
  },
  {
   "cell_type": "markdown",
   "metadata": {
    "slideshow": {
     "slide_type": "subslide"
    }
   },
   "source": [
    "### Data - Flights parameters\n",
    "\n",
    "We then read parameter $t$ for each flight, and the set $I$ of incompatibilities between flights:"
   ]
  },
  {
   "cell_type": "code",
   "execution_count": 6,
   "metadata": {},
   "outputs": [],
   "source": [
    "model.t = pyopt.Param(model.V, initialize={r['Flights']: r['Time'] for i, r in flights.iterrows()})\n",
    "model.I = pyopt.Param(model.V, model.V, rule=lambda model, v1, v2: 1 if v1 in flights[v2].tolist() else 0)"
   ]
  },
  {
   "cell_type": "markdown",
   "metadata": {
    "slideshow": {
     "slide_type": "subslide"
    }
   },
   "source": [
    "### Data - Pilots parameters\n",
    "\n",
    "We then create parameters for both pilots and co-pilots costs ($f$ and $g$, resp.) and the maximum amount of weekly flying hours $q$."
   ]
  },
  {
   "cell_type": "code",
   "execution_count": 7,
   "metadata": {},
   "outputs": [],
   "source": [
    "def read_costs(model, p, v):\n",
    "    return costs.at[p, v]\n",
    "\n",
    "model.f = pyopt.Param(model.P, model.V, rule=read_costs)\n",
    "model.g = pyopt.Param(model.C, model.V, rule=read_costs)\n",
    "model.q = pyopt.Param(initialize=10)"
   ]
  },
  {
   "cell_type": "markdown",
   "metadata": {
    "slideshow": {
     "slide_type": "subslide"
    }
   },
   "source": [
    "### Variables\n",
    "\n",
    "All variables are binary ones:  \n",
    "$x_{pv}:$ $1$ if pilot $p$ is assigned to flight $v$, and $0$ otherwise  \n",
    "$y_{cv}:$ $1$ if co-pilot $c$ is assigned to flight $v$, and $0$ otherwise  "
   ]
  },
  {
   "cell_type": "code",
   "execution_count": 8,
   "metadata": {},
   "outputs": [],
   "source": [
    "model.x = pyopt.Var(model.P, model.V, within=pyopt.Binary)\n",
    "model.y = pyopt.Var(model.C, model.V, within=pyopt.Binary)"
   ]
  },
  {
   "cell_type": "markdown",
   "metadata": {
    "slideshow": {
     "slide_type": "subslide"
    }
   },
   "source": [
    "### Objective function\n",
    "\n",
    "The goal is to minimize the flight costs by mininimizing the cost of pilot and co-pilot:\n",
    "$$z^* = \\min \\sum_{v \\in V} t_v \\cdot ( \\sum_{p \\in P} f_{pv} \\cdot x_{pv} + \\sum_{c \\in C} g_{cv} \\cdot y_{cv} ) $$\n"
   ]
  },
  {
   "cell_type": "code",
   "execution_count": 9,
   "metadata": {},
   "outputs": [],
   "source": [
    "def objective_function(model):\n",
    "    return pyopt.sum(model.t[v] * \\\n",
    "                (pyopt.sum(model.f[p,v] * model.x[p,v] for p in model.P) + \\\n",
    "                 pyopt.sum(model.g[c,v] * model.y[c,v] for c in model.C )) for v in model.V)\n",
    "\n",
    "model.z = pyopt.Objective(rule=objective_function, sense=pyopt.minimize)"
   ]
  },
  {
   "cell_type": "markdown",
   "metadata": {
    "slideshow": {
     "slide_type": "subslide"
    }
   },
   "source": [
    "### Constraints - Assignments\n",
    "\n",
    "We force to select a pilot and a co-pilot for each flight:\n",
    "$$ \\sum_{p \\in P} x_{pv} = 1, \\forall v \\in V $$  \n",
    "$$ \\sum_{c \\in C} y_{cv} = 1, \\forall v \\in V $$  "
   ]
  },
  {
   "cell_type": "code",
   "execution_count": 10,
   "metadata": {},
   "outputs": [],
   "source": [
    "def pilot_assignment_cons(model, v):\n",
    "    return pyopt.sum(model.x[p,v] for p in model.P) == 1\n",
    "\n",
    "def copilot_assignment_cons(model, v):\n",
    "    return pyopt.sum(model.y[c,v] for c in model.C) == 1\n",
    "\n",
    "model.pilot_assignment = pyopt.Constraint(model.V, rule=pilot_assignment_cons)\n",
    "model.copilot_assignment = pyopt.Constraint(model.V, rule=copilot_assignment_cons)"
   ]
  },
  {
   "cell_type": "markdown",
   "metadata": {
    "slideshow": {
     "slide_type": "subslide"
    }
   },
   "source": [
    "### Constraints - Flights incompatiilities\n",
    "\n",
    "We forbid a crew member to be on two incompatible flights:\n",
    "$$ x_{pv} + x_{pv'} \\le 1, \\forall p\\in P, v \\in V, v' \\in I_v $$\n",
    "$$ y_{cv} + y_{cv'} \\le 1, \\forall c\\in C, v \\in V, v' \\in I_v $$"
   ]
  },
  {
   "cell_type": "code",
   "execution_count": 11,
   "metadata": {},
   "outputs": [],
   "source": [
    "def pilot_incompatibility_cons(model, p, v1, v2):\n",
    "    return (model.x[p,v1] + model.x[p,v2] <= 2 - model.I[v1,v2])\n",
    "\n",
    "def copilot_incompatibility_cons(model, c, v1, v2):\n",
    "    return (model.y[c,v1] + model.y[c,v2] <= 2 - model.I[v1,v2])\n",
    "\n",
    "model.pilot_incompatibilities = pyopt.Constraint(model.P, model.V, model.V, rule=pilot_incompatibility_cons)\n",
    "model.copilot_incompatibilities = pyopt.Constraint(model.C, model.V, model.V, rule=copilot_incompatibility_cons)"
   ]
  },
  {
   "cell_type": "markdown",
   "metadata": {
    "slideshow": {
     "slide_type": "subslide"
    }
   },
   "source": [
    "### Constraints - Fliying hours\n",
    "\n",
    "We do not exceet pilots and co-pilots $q$ flying hours:\n",
    "$$ \\sum_{v \\in V} t_v \\cdot x_{pv} \\le q, \\forall p \\in P $$  \n",
    "$$ \\sum_{v \\in V} t_v \\cdot y_{cv} \\le q, \\forall c \\in C $$"
   ]
  },
  {
   "cell_type": "code",
   "execution_count": 12,
   "metadata": {},
   "outputs": [],
   "source": [
    "def pilot_hours_cons(model, p):\n",
    "    return pyopt.sum(model.t[v] * model.x[p,v] for v in model.V) <= model.q\n",
    "\n",
    "def copilot_hours_cons(model, c):\n",
    "    return pyopt.sum(model.t[v] * model.y[c,v] for v in model.V) <= model.q\n",
    "\n",
    "model.pilot_hours = pyopt.Constraint(model.P, rule=pilot_hours_cons)\n",
    "model.copilot_hours = pyopt.Constraint(model.C, rule=copilot_hours_cons)"
   ]
  },
  {
   "cell_type": "markdown",
   "metadata": {
    "slideshow": {
     "slide_type": "slide"
    }
   },
   "source": [
    "## Solving the model\n",
    "\n",
    "Once the abstract model is created, we populate the instance and solve the problem:"
   ]
  },
  {
   "cell_type": "code",
   "execution_count": 13,
   "metadata": {},
   "outputs": [
    {
     "name": "stdout",
     "output_type": "stream",
     "text": [
      "Weekly plan cost 1630.5\n"
     ]
    }
   ],
   "source": [
    "instance = model.create_instance()\n",
    "solver = pyopt.SolverFactory('glpk')\n",
    "results = solver.solve(instance)\n",
    "print(\"Weekly plan cost {}\".format(pyopt.value(instance.z)))"
   ]
  },
  {
   "cell_type": "code",
   "execution_count": 14,
   "metadata": {
    "slideshow": {
     "slide_type": "subslide"
    }
   },
   "outputs": [
    {
     "name": "stdout",
     "output_type": "stream",
     "text": [
      "\n",
      "Problem: \n",
      "- Name: unknown\n",
      "  Lower bound: 1630.5\n",
      "  Upper bound: 1630.5\n",
      "  Number of objectives: 1\n",
      "  Number of constraints: 11331\n",
      "  Number of variables: 751\n",
      "  Number of nonzeros: 23251\n",
      "  Sense: minimize\n",
      "Solver: \n",
      "- Status: ok\n",
      "  Termination condition: optimal\n",
      "  Statistics: \n",
      "    Branch and bound: \n",
      "      Number of bounded subproblems: 1\n",
      "      Number of created subproblems: 1\n",
      "  Error rc: 0\n",
      "  Time: 0.07746267318725586\n",
      "Solution: \n",
      "- number of solutions: 0\n",
      "  number of solutions displayed: 0\n",
      "\n"
     ]
    }
   ],
   "source": [
    "print(results)"
   ]
  },
  {
   "cell_type": "markdown",
   "metadata": {
    "slideshow": {
     "slide_type": "subslide"
    }
   },
   "source": [
    "We finally print the crew member assigned to each flight:"
   ]
  },
  {
   "cell_type": "code",
   "execution_count": 15,
   "metadata": {},
   "outputs": [
    {
     "data": {
      "text/html": [
       "<div>\n",
       "<style scoped>\n",
       "    .dataframe tbody tr th:only-of-type {\n",
       "        vertical-align: middle;\n",
       "    }\n",
       "\n",
       "    .dataframe tbody tr th {\n",
       "        vertical-align: top;\n",
       "    }\n",
       "\n",
       "    .dataframe thead th {\n",
       "        text-align: right;\n",
       "    }\n",
       "</style>\n",
       "<table border=\"1\" class=\"dataframe\">\n",
       "  <thead>\n",
       "    <tr style=\"text-align: right;\">\n",
       "      <th></th>\n",
       "      <th>Pilot</th>\n",
       "      <th>Co-pilot</th>\n",
       "    </tr>\n",
       "  </thead>\n",
       "  <tbody>\n",
       "    <tr>\n",
       "      <th>ZT6743</th>\n",
       "      <td>Sir Isaac Newton</td>\n",
       "      <td>Flossie Wong-Staal</td>\n",
       "    </tr>\n",
       "    <tr>\n",
       "      <th>ZT2898</th>\n",
       "      <td>Lord Kelvin</td>\n",
       "      <td>Chien-Shiung Wu</td>\n",
       "    </tr>\n",
       "    <tr>\n",
       "      <th>ZT3821</th>\n",
       "      <td>Lord Kelvin</td>\n",
       "      <td>Chien-Shiung Wu</td>\n",
       "    </tr>\n",
       "    <tr>\n",
       "      <th>ZT5269</th>\n",
       "      <td>Marie Curie</td>\n",
       "      <td>Cecilia Payne-Gaposchkin</td>\n",
       "    </tr>\n",
       "    <tr>\n",
       "      <th>ZT6742</th>\n",
       "      <td>Sir Ernest Rutherford</td>\n",
       "      <td>Shirley Ann Jackson</td>\n",
       "    </tr>\n",
       "    <tr>\n",
       "      <th>ZT1557</th>\n",
       "      <td>Jacqueline K. Barton</td>\n",
       "      <td>Rita Levi-Montalcini</td>\n",
       "    </tr>\n",
       "    <tr>\n",
       "      <th>ZT7579</th>\n",
       "      <td>Jocelyn Bell Burnell</td>\n",
       "      <td>Wilhelm Conrad Roentgen</td>\n",
       "    </tr>\n",
       "    <tr>\n",
       "      <th>ZT9968</th>\n",
       "      <td>Jocelyn Bell Burnell</td>\n",
       "      <td>Melissa Franklin</td>\n",
       "    </tr>\n",
       "    <tr>\n",
       "      <th>ZT5845</th>\n",
       "      <td>Johannes Kepler</td>\n",
       "      <td>Mildred S. Dresselhaus</td>\n",
       "    </tr>\n",
       "    <tr>\n",
       "      <th>ZT7947</th>\n",
       "      <td>Geraldine Seydoux</td>\n",
       "      <td>Niels Bohr</td>\n",
       "    </tr>\n",
       "    <tr>\n",
       "      <th>ZT3554</th>\n",
       "      <td>Lene Vestergaard Hau</td>\n",
       "      <td>Rosalind Franklin</td>\n",
       "    </tr>\n",
       "    <tr>\n",
       "      <th>ZT1277</th>\n",
       "      <td>Maria Mitchell</td>\n",
       "      <td>Erwin Schroedinger</td>\n",
       "    </tr>\n",
       "    <tr>\n",
       "      <th>ZT7456</th>\n",
       "      <td>Caroline Herschel</td>\n",
       "      <td>Stephen Hawking</td>\n",
       "    </tr>\n",
       "    <tr>\n",
       "      <th>ZT3234</th>\n",
       "      <td>Max Born</td>\n",
       "      <td>Patty Jo Watson</td>\n",
       "    </tr>\n",
       "    <tr>\n",
       "      <th>ZT4311</th>\n",
       "      <td>Max Born</td>\n",
       "      <td>Edmond Halley</td>\n",
       "    </tr>\n",
       "  </tbody>\n",
       "</table>\n",
       "</div>"
      ],
      "text/plain": [
       "                        Pilot                  Co-pilot\n",
       "ZT6743       Sir Isaac Newton        Flossie Wong-Staal\n",
       "ZT2898            Lord Kelvin           Chien-Shiung Wu\n",
       "ZT3821            Lord Kelvin           Chien-Shiung Wu\n",
       "ZT5269            Marie Curie  Cecilia Payne-Gaposchkin\n",
       "ZT6742  Sir Ernest Rutherford       Shirley Ann Jackson\n",
       "ZT1557   Jacqueline K. Barton      Rita Levi-Montalcini\n",
       "ZT7579   Jocelyn Bell Burnell   Wilhelm Conrad Roentgen\n",
       "ZT9968   Jocelyn Bell Burnell          Melissa Franklin\n",
       "ZT5845        Johannes Kepler    Mildred S. Dresselhaus\n",
       "ZT7947      Geraldine Seydoux                Niels Bohr\n",
       "ZT3554   Lene Vestergaard Hau         Rosalind Franklin\n",
       "ZT1277         Maria Mitchell        Erwin Schroedinger\n",
       "ZT7456      Caroline Herschel           Stephen Hawking\n",
       "ZT3234               Max Born           Patty Jo Watson\n",
       "ZT4311               Max Born             Edmond Halley"
      ]
     },
     "execution_count": 15,
     "metadata": {},
     "output_type": "execute_result"
    }
   ],
   "source": [
    "pd.DataFrame.from_items(\n",
    "    [(v, [p,c]) for p in instance.P for c in instance.C for v in instance.V \n",
    "                if instance.x[p,v].value > 0 and instance.y[c,v].value > 0 ], \n",
    "      orient='index', columns=['Pilot', 'Co-pilot'])"
   ]
  },
  {
   "cell_type": "markdown",
   "metadata": {
    "slideshow": {
     "slide_type": "slide"
    }
   },
   "source": [
    "## Workers go on strike!\n",
    "\n",
    "Labor unions declared a last minute strike, and some of the pilots and co-pilots of our company joined the strike.\n",
    "\n",
    "The previous plan must be then updated to recover from the infeasibility, but since all pilots have already received their flight plan, we want them to still flight their previously assigned flights.\n",
    "\n",
    "The list of pilots and co-pilots on strike is given on a `csv` file:"
   ]
  },
  {
   "cell_type": "code",
   "execution_count": 16,
   "metadata": {},
   "outputs": [
    {
     "data": {
      "text/html": [
       "<div>\n",
       "<style scoped>\n",
       "    .dataframe tbody tr th:only-of-type {\n",
       "        vertical-align: middle;\n",
       "    }\n",
       "\n",
       "    .dataframe tbody tr th {\n",
       "        vertical-align: top;\n",
       "    }\n",
       "\n",
       "    .dataframe thead th {\n",
       "        text-align: right;\n",
       "    }\n",
       "</style>\n",
       "<table border=\"1\" class=\"dataframe\">\n",
       "  <thead>\n",
       "    <tr style=\"text-align: right;\">\n",
       "      <th></th>\n",
       "      <th>Pilots</th>\n",
       "    </tr>\n",
       "  </thead>\n",
       "  <tbody>\n",
       "    <tr>\n",
       "      <th>0</th>\n",
       "      <td>Frieda Robscheit-Robbins</td>\n",
       "    </tr>\n",
       "    <tr>\n",
       "      <th>1</th>\n",
       "      <td>Geraldine Seydoux</td>\n",
       "    </tr>\n",
       "    <tr>\n",
       "      <th>2</th>\n",
       "      <td>Gertrude B. Elion</td>\n",
       "    </tr>\n",
       "    <tr>\n",
       "      <th>3</th>\n",
       "      <td>Jacqueline K. Barton</td>\n",
       "    </tr>\n",
       "    <tr>\n",
       "      <th>4</th>\n",
       "      <td>Jocelyn Bell Burnell</td>\n",
       "    </tr>\n",
       "  </tbody>\n",
       "</table>\n",
       "</div>"
      ],
      "text/plain": [
       "                     Pilots\n",
       "0  Frieda Robscheit-Robbins\n",
       "1         Geraldine Seydoux\n",
       "2         Gertrude B. Elion\n",
       "3      Jacqueline K. Barton\n",
       "4      Jocelyn Bell Burnell"
      ]
     },
     "execution_count": 16,
     "metadata": {},
     "output_type": "execute_result"
    }
   ],
   "source": [
    "strike = pd.read_csv(\"strike.csv\")\n",
    "strike[:5]"
   ]
  },
  {
   "cell_type": "markdown",
   "metadata": {
    "slideshow": {
     "slide_type": "subslide"
    }
   },
   "source": [
    "We can use the same model and impose:\n",
    "  1) to avoid the assignment of flights to pilots on strike\n",
    "  2) to fix previously generated assignments in such a way that they are not changed\n",
    "  \n",
    "This can be done by fixing variables:"
   ]
  },
  {
   "cell_type": "code",
   "execution_count": 17,
   "metadata": {},
   "outputs": [],
   "source": [
    "pilots_on_strike = strike['Pilots'].tolist()\n",
    "for (p, v), var in instance.x.iteritems():\n",
    "    if p in pilots_on_strike:\n",
    "        var.value, var.fixed = 0, True\n",
    "            \n",
    "for (c, v), var in instance.y.iteritems():\n",
    "    if c in pilots_on_strike:\n",
    "        var.value, var.fixed = 0, True\n",
    "\n",
    "for (p, v), var in instance.x.iteritems():\n",
    "    if var.value > 0:\n",
    "        var.fixed = True\n",
    "            \n",
    "for (c, v), var in instance.y.iteritems():\n",
    "    if var.value > 0:\n",
    "        var.fixed = True"
   ]
  },
  {
   "cell_type": "markdown",
   "metadata": {
    "slideshow": {
     "slide_type": "subslide"
    }
   },
   "source": [
    "We then solve again the problem and provide the updated total cost and the new plan:"
   ]
  },
  {
   "cell_type": "code",
   "execution_count": 18,
   "metadata": {},
   "outputs": [
    {
     "name": "stdout",
     "output_type": "stream",
     "text": [
      "Weekly plan cost 1664.500000\n"
     ]
    }
   ],
   "source": [
    "results = solver.solve(instance)\n",
    "print(\"Weekly plan cost {}\".format(pyopt.value(instance.z)))"
   ]
  },
  {
   "cell_type": "code",
   "execution_count": 19,
   "metadata": {
    "slideshow": {
     "slide_type": "subslide"
    }
   },
   "outputs": [
    {
     "data": {
      "text/html": [
       "<div>\n",
       "<style scoped>\n",
       "    .dataframe tbody tr th:only-of-type {\n",
       "        vertical-align: middle;\n",
       "    }\n",
       "\n",
       "    .dataframe tbody tr th {\n",
       "        vertical-align: top;\n",
       "    }\n",
       "\n",
       "    .dataframe thead th {\n",
       "        text-align: right;\n",
       "    }\n",
       "</style>\n",
       "<table border=\"1\" class=\"dataframe\">\n",
       "  <thead>\n",
       "    <tr style=\"text-align: right;\">\n",
       "      <th></th>\n",
       "      <th>Pilot</th>\n",
       "      <th>Co-pilot</th>\n",
       "    </tr>\n",
       "  </thead>\n",
       "  <tbody>\n",
       "    <tr>\n",
       "      <th>ZT5269</th>\n",
       "      <td>Sir Isaac Newton</td>\n",
       "      <td>Cecilia Payne-Gaposchkin</td>\n",
       "    </tr>\n",
       "    <tr>\n",
       "      <th>ZT6743</th>\n",
       "      <td>Sir Isaac Newton</td>\n",
       "      <td>Flossie Wong-Staal</td>\n",
       "    </tr>\n",
       "    <tr>\n",
       "      <th>ZT2898</th>\n",
       "      <td>Lord Kelvin</td>\n",
       "      <td>Chien-Shiung Wu</td>\n",
       "    </tr>\n",
       "    <tr>\n",
       "      <th>ZT3821</th>\n",
       "      <td>Lord Kelvin</td>\n",
       "      <td>Chien-Shiung Wu</td>\n",
       "    </tr>\n",
       "    <tr>\n",
       "      <th>ZT5845</th>\n",
       "      <td>Blaise Pascal</td>\n",
       "      <td>Mildred S. Dresselhaus</td>\n",
       "    </tr>\n",
       "    <tr>\n",
       "      <th>ZT4311</th>\n",
       "      <td>Blaise Pascal</td>\n",
       "      <td>Edmond Halley</td>\n",
       "    </tr>\n",
       "    <tr>\n",
       "      <th>ZT6742</th>\n",
       "      <td>Sir Ernest Rutherford</td>\n",
       "      <td>Shirley Ann Jackson</td>\n",
       "    </tr>\n",
       "    <tr>\n",
       "      <th>ZT7579</th>\n",
       "      <td>Albert Einstein</td>\n",
       "      <td>Wilhelm Conrad Roentgen</td>\n",
       "    </tr>\n",
       "    <tr>\n",
       "      <th>ZT3554</th>\n",
       "      <td>Lise Meitner</td>\n",
       "      <td>Ruzena Bajcsy</td>\n",
       "    </tr>\n",
       "    <tr>\n",
       "      <th>ZT9968</th>\n",
       "      <td>Lise Meitner</td>\n",
       "      <td>Wilhelm Conrad Roentgen</td>\n",
       "    </tr>\n",
       "    <tr>\n",
       "      <th>ZT3234</th>\n",
       "      <td>Anna K. Behrensmeyer</td>\n",
       "      <td>Patty Jo Watson</td>\n",
       "    </tr>\n",
       "    <tr>\n",
       "      <th>ZT7947</th>\n",
       "      <td>Ingrid Daubechies</td>\n",
       "      <td>Shannon W. Lucid</td>\n",
       "    </tr>\n",
       "    <tr>\n",
       "      <th>ZT1277</th>\n",
       "      <td>Maria Mitchell</td>\n",
       "      <td>Wolfgang Ernst Pauli</td>\n",
       "    </tr>\n",
       "    <tr>\n",
       "      <th>ZT7456</th>\n",
       "      <td>Caroline Herschel</td>\n",
       "      <td>Stephen Hawking</td>\n",
       "    </tr>\n",
       "    <tr>\n",
       "      <th>ZT1557</th>\n",
       "      <td>Jane Goodall</td>\n",
       "      <td>Edwin Powell Hubble</td>\n",
       "    </tr>\n",
       "  </tbody>\n",
       "</table>\n",
       "</div>"
      ],
      "text/plain": [
       "                        Pilot                  Co-pilot\n",
       "ZT5269       Sir Isaac Newton  Cecilia Payne-Gaposchkin\n",
       "ZT6743       Sir Isaac Newton        Flossie Wong-Staal\n",
       "ZT2898            Lord Kelvin           Chien-Shiung Wu\n",
       "ZT3821            Lord Kelvin           Chien-Shiung Wu\n",
       "ZT5845          Blaise Pascal    Mildred S. Dresselhaus\n",
       "ZT4311          Blaise Pascal             Edmond Halley\n",
       "ZT6742  Sir Ernest Rutherford       Shirley Ann Jackson\n",
       "ZT7579        Albert Einstein   Wilhelm Conrad Roentgen\n",
       "ZT3554           Lise Meitner             Ruzena Bajcsy\n",
       "ZT9968           Lise Meitner   Wilhelm Conrad Roentgen\n",
       "ZT3234   Anna K. Behrensmeyer           Patty Jo Watson\n",
       "ZT7947      Ingrid Daubechies          Shannon W. Lucid\n",
       "ZT1277         Maria Mitchell      Wolfgang Ernst Pauli\n",
       "ZT7456      Caroline Herschel           Stephen Hawking\n",
       "ZT1557           Jane Goodall       Edwin Powell Hubble"
      ]
     },
     "execution_count": 19,
     "metadata": {},
     "output_type": "execute_result"
    }
   ],
   "source": [
    "pd.DataFrame.from_items(\n",
    "    [(v, [p,c]) for p in instance.P for c in instance.C for v in instance.V \n",
    "                if instance.x[p,v].value > 0 and instance.y[c,v].value > 0 ], \n",
    "      orient='index', columns=['Pilot', 'Co-pilot'])"
   ]
  }
 ],
 "metadata": {
  "celltoolbar": "Slideshow",
  "kernelspec": {
   "display_name": "Python 3",
   "language": "python",
   "name": "python3"
  },
  "language_info": {
   "codemirror_mode": {
    "name": "ipython",
    "version": 3
   },
   "file_extension": ".py",
   "mimetype": "text/x-python",
   "name": "python",
   "nbconvert_exporter": "python",
   "pygments_lexer": "ipython3",
   "version": "3.6.4"
  }
 },
 "nbformat": 4,
 "nbformat_minor": 2
}
