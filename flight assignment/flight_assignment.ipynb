{
 "cells": [
  {
   "cell_type": "markdown",
   "metadata": {},
   "source": [
    "# Flight assignment\n",
    "\n",
    "A small airlane company produces a weekly plan for the assignment of pilots and co-pilots to flights.\n",
    "In a pre-processing phase, the list of flights has been analysed to identify the flights that cannot have the same crew members (e.g., flights departing at the same hour). \n",
    "\n",
    "Our company follows several rules:\n",
    "- each flight needs a pilot and a co-pilot to depart. \n",
    "- both pilots and co-pilots cannot exceed a weekly amount of flight hours.\n",
    "- each pilot (resp. co-pilot) is paid based on several factors (e.g., the experience, the rank, flight hours)\n",
    "\n",
    "The airplane company what to produce the weekly plan minimizing flight costs.\n",
    "\n",
    "## Data\n",
    "\n",
    "$P:$ set of pilots  \n",
    "$C:$ set of co-pilots  \n",
    "$V:$ set of flights  \n",
    "$I_v \\subseteq V :$ flights incompatibilities of flight $v \\in V$  \n",
    "$f_{pv}:$ cost per hour of pilot $p\\in P$ if assigned to flight $v \\in V$  \n",
    "$g_{cv}:$ cost per hour of co-pilot $c\\in C$ if assigned to flight $v \\in V$  \n",
    "$q:$ weekly amount of flight hours for each pilot and co-pilot\n",
    "$t_v:$ flight hours of flight $v\\in V$\n",
    "\n",
    "## Variables\n",
    "\n",
    "$x_{pv}:$ $1$ if pilot $p$ is assigned to flight $v$, and $0$ otherwise  \n",
    "$y_{cv}:$ $1$ if co-pilot $c$ is assigned to flight $v$, and $0$ otherwise  \n",
    "\n",
    "## Objective function\n",
    "\n",
    "Minimize flight costs\n",
    "$$z = \\min \\sum_{v \\in V} t_v \\cdot ( \\sum_{p \\in P} f_{pv} \\cdot x_{pv} + \\sum_{c \\in C} g_{cv} \\cdot y_{cv} ) $$\n",
    "\n",
    "## Constraints\n",
    "\n",
    "One pilot and one co-pilot for each flight\n",
    "$$ \\sum_{p \\in P} x_{pv} = 1, \\forall v \\in V $$  \n",
    "$$ \\sum_{c \\in C} y_{cv} = 1, \\forall v \\in V $$  \n",
    "\n",
    "Do not exceed flight hours for each pilot and co-pilot\n",
    "$$ \\sum_{v \\in V} t_v \\cdot x_{pv} \\le q, \\forall p \\in P $$  \n",
    "$$ \\sum_{v \\in V} t_v \\cdot y_{cv} \\le q, \\forall c \\in C $$\n",
    "\n",
    "Avoid to assign the same crew to two incompatible flights\n",
    "$$ x_{pv} + x_{pv'} \\le 1, \\forall p\\in P, v \\in V, v' \\in I_v $$\n",
    "$$ y_{cv} + y_{cv'} \\le 1, \\forall c\\in C, v \\in V, v' \\in I_v $$\n",
    "\n",
    "## Implementation\n",
    "\n",
    "Data are stored into three `csv` files, one for the crew members, one for the flights, and one for the costs."
   ]
  },
  {
   "cell_type": "code",
   "execution_count": null,
   "metadata": {},
   "outputs": [],
   "source": [
    "import pandas as pd\n",
    "\n",
    "crew = pd.read_csv(\"crew.csv\")\n",
    "flights = pd.read_csv(\"flights.csv\")\n",
    "costs = pd.read_csv(\"costs.csv\", index_col=0)"
   ]
  },
  {
   "cell_type": "code",
   "execution_count": null,
   "metadata": {},
   "outputs": [],
   "source": [
    "crew[:2]"
   ]
  },
  {
   "cell_type": "code",
   "execution_count": null,
   "metadata": {},
   "outputs": [],
   "source": [
    "flights[:2]"
   ]
  },
  {
   "cell_type": "code",
   "execution_count": null,
   "metadata": {},
   "outputs": [],
   "source": [
    "costs[:2]"
   ]
  },
  {
   "cell_type": "markdown",
   "metadata": {},
   "source": [
    "We create the abstract model"
   ]
  },
  {
   "cell_type": "code",
   "execution_count": null,
   "metadata": {},
   "outputs": [],
   "source": [
    "import pyomo.environ as pyopt\n",
    "\n",
    "model = pyopt.AbstractModel(\"Flight assignment\")"
   ]
  },
  {
   "cell_type": "markdown",
   "metadata": {},
   "source": [
    "and the sets of pilots, copilots, and flights."
   ]
  },
  {
   "cell_type": "code",
   "execution_count": null,
   "metadata": {},
   "outputs": [],
   "source": [
    "import math\n",
    "\n",
    "model.P = pyopt.Set(initialize=crew['Pilots'].dropna().tolist())\n",
    "model.C = pyopt.Set(initialize=crew['Co-pilots'].dropna().tolist())\n",
    "model.V = pyopt.Set(initialize=flights['Flights'].tolist())"
   ]
  },
  {
   "cell_type": "markdown",
   "metadata": {},
   "source": [
    "We then create all the paprameters reading the flight hours for each flight, the incompatibilities between flights, and by setting an arbitrary number of maximum flight hours. "
   ]
  },
  {
   "cell_type": "code",
   "execution_count": null,
   "metadata": {},
   "outputs": [],
   "source": [
    "model.t = pyopt.Param(model.V, initialize={ r['Flights']: r['Time'] for i, r in flights.iterrows()})\n",
    "model.q = pyopt.Param(initialize=10)\n",
    "\n",
    "def read_incompatibilities(model):\n",
    "    return {(v1,v2): (1 if v1 in flights[v2].tolist() else 0) for v1 in model.V for v2 in model.V}\n",
    "\n",
    "model.I = pyopt.Param(model.V, model.V, initialize=read_incompatibilities)"
   ]
  },
  {
   "cell_type": "markdown",
   "metadata": {},
   "source": [
    "To read the incompatibilities we used a function that will run only when creating the instance: the abstract model is instantiated only when method `create_instance()` is called. Before that, no set of our model has been initialized, and we cannot access their elements.\n",
    "\n",
    "In the same way we use an additional function to read the cost parameters:"
   ]
  },
  {
   "cell_type": "code",
   "execution_count": null,
   "metadata": {},
   "outputs": [],
   "source": [
    "def read_costs(model, p, v):\n",
    "    return costs.at[p, v]\n",
    "\n",
    "model.f = pyopt.Param(model.P, model.V, rule=read_costs)\n",
    "model.g = pyopt.Param(model.C, model.V, rule=read_costs)"
   ]
  },
  {
   "cell_type": "markdown",
   "metadata": {},
   "source": [
    "All variables are binary ones:"
   ]
  },
  {
   "cell_type": "code",
   "execution_count": null,
   "metadata": {},
   "outputs": [],
   "source": [
    "model.x = pyopt.Var(model.P, model.V, within=pyopt.Binary)\n",
    "model.y = pyopt.Var(model.C, model.V, within=pyopt.Binary)"
   ]
  },
  {
   "cell_type": "markdown",
   "metadata": {},
   "source": [
    "The goal is to minimize the flight costs by mininimizing the cost of pilot and co-pilot:"
   ]
  },
  {
   "cell_type": "code",
   "execution_count": null,
   "metadata": {},
   "outputs": [],
   "source": [
    "def objective_function(model):\n",
    "    return pyopt.sum(model.t[v] * \\\n",
    "                (pyopt.sum(model.f[p,v] * model.x[p,v] for p in model.P) + \\\n",
    "                 pyopt.sum(model.g[c,v] * model.y[c,v] for c in model.C )) for v in model.V)\n",
    "\n",
    "model.z = pyopt.Objective(rule=objective_function, sense=pyopt.minimize)"
   ]
  },
  {
   "cell_type": "markdown",
   "metadata": {},
   "source": [
    "We force to select a pilot and co-pilot for each flight:"
   ]
  },
  {
   "cell_type": "code",
   "execution_count": null,
   "metadata": {},
   "outputs": [],
   "source": [
    "def pilot_assignment_cons(model, v):\n",
    "    return pyopt.sum(model.x[p,v] for p in model.P) == 1\n",
    "\n",
    "def copilot_assignment_cons(model, v):\n",
    "    return pyopt.sum(model.y[c,v] for c in model.C) == 1\n",
    "\n",
    "model.pilot_assignment = pyopt.Constraint(model.V, rule=pilot_assignment_cons)\n",
    "model.copilot_assignment = pyopt.Constraint(model.V, rule=copilot_assignment_cons)"
   ]
  },
  {
   "cell_type": "markdown",
   "metadata": {},
   "source": [
    "We forbid a crew member to be on two incompatible flights:"
   ]
  },
  {
   "cell_type": "code",
   "execution_count": null,
   "metadata": {},
   "outputs": [],
   "source": [
    "def pilot_incompatibility_cons(model, p, v1, v2):\n",
    "    return (model.x[p,v1] + model.x[p,v2] <= 2 - model.I[v1,v2])\n",
    "\n",
    "def copilot_incompatibility_cons(model, c, v1, v2):\n",
    "    return (model.y[c,v1] + model.y[c,v2] <= 2 - model.I[v1,v2])\n",
    "\n",
    "model.pilot_incompatibilities = pyopt.Constraint(model.P, model.V, model.V, rule=pilot_incompatibility_cons)\n",
    "model.copilot_incompatibilities = pyopt.Constraint(model.C, model.V, model.V, rule=copilot_incompatibility_cons)"
   ]
  },
  {
   "cell_type": "markdown",
   "metadata": {},
   "source": [
    "We do not exceet pilots and co-pilots flight hours:"
   ]
  },
  {
   "cell_type": "code",
   "execution_count": null,
   "metadata": {},
   "outputs": [],
   "source": [
    "def pilot_hours_cons(model, p):\n",
    "    return pyopt.sum(model.t[v] * model.x[p,v] for v in model.V) <= model.q\n",
    "\n",
    "def copilot_hours_cons(model, c):\n",
    "    return pyopt.sum(model.t[v] * model.y[c,v] for v in model.V) <= model.q\n",
    "\n",
    "model.pilot_hours = pyopt.Constraint(model.P, rule=pilot_hours_cons)\n",
    "model.copilot_hours = pyopt.Constraint(model.C, rule=copilot_hours_cons)"
   ]
  },
  {
   "cell_type": "markdown",
   "metadata": {},
   "source": [
    "All the above constraints are created using additional functions, so that we can easily access to the elements of the sets.\n",
    "\n",
    "Once the abstract model is create, we also create the instance. \n",
    "Then the problem is solved and the total cost printed:"
   ]
  },
  {
   "cell_type": "code",
   "execution_count": null,
   "metadata": {},
   "outputs": [],
   "source": [
    "instance = model.create_instance()\n",
    "solver = pyopt.SolverFactory('glpk')\n",
    "results = solver.solve(instance)\n",
    "print(\"Weekly plan cost %f\" % (pyopt.value(instance.z)))"
   ]
  },
  {
   "cell_type": "markdown",
   "metadata": {},
   "source": [
    "We finally print the crew member assigned to each flight:"
   ]
  },
  {
   "cell_type": "code",
   "execution_count": null,
   "metadata": {},
   "outputs": [],
   "source": [
    "pd.DataFrame.from_items(\n",
    "    [(v, [p,c]) for p in instance.P for c in instance.C for v in instance.V \n",
    "                if instance.x[p,v].value > 0 and instance.y[c,v].value > 0 ], \n",
    "      orient='index', columns=['Pilot', 'Co-pilot'])"
   ]
  },
  {
   "cell_type": "markdown",
   "metadata": {},
   "source": [
    "## Workers go on strike!\n",
    "\n",
    "Labor unions declared a last minute strike, and some of the pilots and co-pilots of our company joined the strike.\n",
    "\n",
    "The previous plan must be then updated to recover from the infeasibility, but since all pilots have already received their flight plan, we want them to still flight their previously assigned flights.\n",
    "\n",
    "The list of pilots and co-pilots on strike is given on a `csv` file:"
   ]
  },
  {
   "cell_type": "code",
   "execution_count": null,
   "metadata": {},
   "outputs": [],
   "source": [
    "strike = pd.read_csv(\"strike.csv\")\n",
    "strike[:2]"
   ]
  },
  {
   "cell_type": "markdown",
   "metadata": {},
   "source": [
    "We can use the same model and impose:\n",
    "  1) to avoid the assignment of flights to pilots on strike\n",
    "  2) to fix previously generated assignments in such a way that they are not changed\n",
    "  \n",
    "This can be done by fixing variables:"
   ]
  },
  {
   "cell_type": "code",
   "execution_count": null,
   "metadata": {},
   "outputs": [],
   "source": [
    "pilots_on_strike = strike['Pilots'].tolist()\n",
    "for p, v in instance.x:\n",
    "    if p in pilots_on_strike:\n",
    "        instance.x[p,v].value = 0\n",
    "        instance.x[p,v].fixed = True\n",
    "            \n",
    "for c, v in instance.y:\n",
    "    if c in pilots_on_strike:\n",
    "        instance.y[c,v].value = 0\n",
    "        instance.y[c,v].fixed = True\n",
    "\n",
    "for p, v in instance.x:\n",
    "    if instance.x[p,v].value > 0:\n",
    "        instance.x[p,v].fixed = True\n",
    "            \n",
    "for c, v in instance.y:\n",
    "    if instance.y[c,v].value > 0:\n",
    "        instance.y[c,v].fixed = True"
   ]
  },
  {
   "cell_type": "markdown",
   "metadata": {},
   "source": [
    "If a pilot is on strike, then all its associated variables will be set to $0$, in such a way that the solver will not assign to him any flight. Instead, if any other pilot had already an assigned flight, we fix the corresponding variable so that it is not changed.\n",
    "\n",
    "We then solve again the problem and provide the updated total cost and the new plan:"
   ]
  },
  {
   "cell_type": "code",
   "execution_count": null,
   "metadata": {},
   "outputs": [],
   "source": [
    "results = solver.solve(instance)\n",
    "print(\"Weekly plan cost %f\" % (pyopt.value(instance.z)))"
   ]
  },
  {
   "cell_type": "code",
   "execution_count": null,
   "metadata": {},
   "outputs": [],
   "source": [
    "pd.DataFrame.from_items(\n",
    "    [(v, [p,c]) for p in instance.P for c in instance.C for v in instance.V \n",
    "                if instance.x[p,v].value > 0 and instance.y[c,v].value > 0 ], \n",
    "      orient='index', columns=['Pilot', 'Co-pilot'])"
   ]
  }
 ],
 "metadata": {
  "kernelspec": {
   "display_name": "Python 3",
   "language": "python",
   "name": "python3"
  }
 },
 "nbformat": 4,
 "nbformat_minor": 2
}
