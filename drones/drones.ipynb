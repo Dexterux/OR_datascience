{
 "cells": [
  {
   "cell_type": "markdown",
   "metadata": {
    "slideshow": {
     "slide_type": "slide"
    }
   },
   "source": [
    "# Drones surveillance\n",
    "\n",
    "A fleet of drones must be used to supervise an area. \n",
    "The area has a rectangular shape and can be discretized as a set of points to supervise.\n",
    "\n",
    "The following plot is an example of a drone supervising a part of the area:\n",
    "the dots are the spot we want to supervise, the red ones are the supervised ones, and the blue circle is the area covered by the drone camera. The goal is to maximize the supervised area."
   ]
  },
  {
   "cell_type": "code",
   "execution_count": 48,
   "metadata": {
    "slideshow": {
     "slide_type": "skip"
    }
   },
   "outputs": [],
   "source": [
    "import matplotlib.pyplot as plt\n",
    "%matplotlib inline\n",
    "import itertools\n",
    "\n",
    "def draw_grid(canvas, w, h, coord):\n",
    "    canvas.set_facecolor('#7AAE74')\n",
    "    canvas.set_ylim([0,h])\n",
    "    canvas.set_xlim([0,w])\n",
    "    canvas.set_xticks(range(0,w,1))\n",
    "    canvas.set_yticks(range(0,h,1))\n",
    "    canvas.grid()\n",
    "    grid_dots = list(itertools.product(range(0, w+1), range(0, h+1)))\n",
    "    canvas.scatter([c[0] for c in grid_dots],[c[1] for c in grid_dots], color='#000000', zorder=0)\n",
    "    canvas.scatter([c[0] for c in coord],[c[1] for c in coord], color='#820D10', zorder=2)\n",
    "\n",
    "def draw_drone(canvas, x, y, radius):\n",
    "    canvas.add_artist(plt.Circle((x,y), radius, zorder=1, color='#516C88'))\n",
    "\n",
    "    \n",
    "def draw_map(width, height, supervised_dots, drones):\n",
    "    plt.figure(figsize=(6,6))\n",
    "    gc = plt.gcf().gca()\n",
    "    draw_grid(gc, width, height, supervised_dots)\n",
    "    for x, y, r in drones:\n",
    "        draw_drone(gc, x, y, r)\n",
    "    plt.show()"
   ]
  },
  {
   "cell_type": "code",
   "execution_count": 49,
   "metadata": {},
   "outputs": [
    {
     "data": {
      "image/png": "[encoded data removed]",
      "text/plain": [
       "<matplotlib.figure.Figure at 0x7f5be276fef0>"
      ]
     },
     "metadata": {},
     "output_type": "display_data"
    }
   ],
   "source": [
    "draw_map(10, 10, [(3,3),(3,4),(3,5),(4,3),(4,4),(4,5),(5,3),(5,4),(5,5)], [(4, 4, 1.7)])"
   ]
  },
  {
   "cell_type": "markdown",
   "metadata": {
    "slideshow": {
     "slide_type": "subslide"
    }
   },
   "source": [
    "## Data\n",
    "\n",
    "$D:$ set of available drones  \n",
    "$n,m:$ sizes of the area (in dots)  \n",
    "$M = \\{(i,j) : 0 \\le i \\le n, 0 \\le j \\le m, \\}: $ set of coordinates of the area  \n",
    "$r_d:$ surveillance radius of drone $d \\in D$  \n",
    "$\\delta(p_1, p_2):$ function computing the euclidean distance between two dots\n",
    "\n",
    "\n",
    "## variables\n",
    "\n",
    "$x_{dp}:$ $1$ if drone $d$ is placed in coordinate $p$, $0$ otherwise  \n",
    "$y_{p}:$ $1$ if coordinate $p$ is supervised, $0$ otherwise  "
   ]
  },
  {
   "cell_type": "markdown",
   "metadata": {
    "slideshow": {
     "slide_type": "subslide"
    }
   },
   "source": [
    "## Objective function\n",
    "\n",
    "Maximize the supervised area (in terms of supervised dots)\n",
    "$$z^* = \\max \\sum_{p \\in M} y_{p}$$\n",
    "\n",
    "## Constraints\n",
    "\n",
    "Each drone cannot be placed in two different coordinates\n",
    "$$ \\sum_{p \\in M} x_{dp} \\le 1, \\forall {d \\in D}$$\n",
    "\n",
    "Each dot is supervised only if it is within the radius of at least one drone\n",
    "$$ y_{p} \\le \\sum_{d \\in D} \\sum_{q \\in M : \\delta(p, q ) \\le r_d } x_{dq}, \\forall p \\in M$$"
   ]
  },
  {
   "cell_type": "markdown",
   "metadata": {
    "slideshow": {
     "slide_type": "slide"
    }
   },
   "source": [
    "## Model implementation\n",
    "\n",
    "Import Pyomo and create the abstrat model:"
   ]
  },
  {
   "cell_type": "code",
   "execution_count": 112,
   "metadata": {},
   "outputs": [],
   "source": [
    "import pyomo.environ as pyopt\n",
    "\n",
    "model = pyopt.AbstractModel()"
   ]
  },
  {
   "cell_type": "markdown",
   "metadata": {
    "slideshow": {
     "slide_type": "subslide"
    }
   },
   "source": [
    "### Data - Coordinates system\n",
    "\n",
    "In this example the sizes of the area are chosen arbitrarily, then the set $M$ of coordinates is created as their cross product:"
   ]
  },
  {
   "cell_type": "code",
   "execution_count": 113,
   "metadata": {},
   "outputs": [],
   "source": [
    "m = 15\n",
    "n = 15\n",
    "\n",
    "model.m = pyopt.Set(initialize=range(m))\n",
    "model.n = pyopt.Set(initialize=range(n))\n",
    "model.M = model.m * model.n"
   ]
  },
  {
   "cell_type": "markdown",
   "metadata": {
    "slideshow": {
     "slide_type": "subslide"
    }
   },
   "source": [
    "### Data - Set of drones\n",
    "\n",
    "We then create a set $D$ of $6$ drones of random radius $r$:"
   ]
  },
  {
   "cell_type": "code",
   "execution_count": 114,
   "metadata": {},
   "outputs": [],
   "source": [
    "import random\n",
    "random.seed(0)\n",
    "\n",
    "drones = range(6)\n",
    "model.D = pyopt.Set(initialize=drones)\n",
    "model.r = pyopt.Param(model.D, rule=lambda _: random.randrange(2,4))"
   ]
  },
  {
   "cell_type": "markdown",
   "metadata": {
    "slideshow": {
     "slide_type": "subslide"
    }
   },
   "source": [
    "### Variables \n",
    "\n",
    "All variables are binary:  \n",
    "$x_{dp}:$ $1$ if drone $d$ is placed in coordinate $p$, $0$ otherwise  \n",
    "$y_{p}:$ $1$ if coordinate $p$ is supervised, $0$ otherwise  "
   ]
  },
  {
   "cell_type": "code",
   "execution_count": 115,
   "metadata": {},
   "outputs": [],
   "source": [
    "model.x = pyopt.Var(model.D, model.M, within=pyopt.Binary)\n",
    "model.y = pyopt.Var(model.M, within=pyopt.Binary)"
   ]
  },
  {
   "cell_type": "markdown",
   "metadata": {
    "slideshow": {
     "slide_type": "subslide"
    }
   },
   "source": [
    "### Objective function\n",
    "\n",
    "$$z^* = \\max \\sum_{p \\in M} y_{p}$$\n",
    "\n",
    "The objective function maximizes the number of supervised dots:"
   ]
  },
  {
   "cell_type": "code",
   "execution_count": 116,
   "metadata": {},
   "outputs": [],
   "source": [
    "def objective_function(model):\n",
    "    return pyopt.sum(model.y[i,j] for (i,j) in model.M)\n",
    "\n",
    "model.z = pyopt.Objective(sense=pyopt.maximize, rule=objective_function)"
   ]
  },
  {
   "cell_type": "markdown",
   "metadata": {
    "slideshow": {
     "slide_type": "subslide"
    }
   },
   "source": [
    "### Constraints \n",
    "\n",
    "Constraints `cons_covering` impose that a dot is supervised only if it is within the radius of a drone\n",
    "$$ y_{p} \\le \\sum_{d \\in D} \\sum_{q \\in M : \\delta(p, q ) \\le r_d } x_{dq}, \\forall p \\in M,$$\n",
    "while constraints `cons_assignment` avoid to place a drone more than once:\n",
    "$$ \\sum_{p \\in M} x_{dp} \\le 1, \\forall {d \\in D}$$\n"
   ]
  },
  {
   "cell_type": "code",
   "execution_count": 117,
   "metadata": {},
   "outputs": [],
   "source": [
    "import math\n",
    "def delta(x1,y1,x2,y2):\n",
    "    return math.sqrt( math.pow(x1 - x2, 2) + math.pow(y1 - y2, 2) )\n",
    "\n",
    "def cons_covering(model, i, j):\n",
    "    return model.y[i,j] <= pyopt.sum(model.x[d,p,q] \n",
    "                                     for d in model.D for (p,q) in model.M \n",
    "                                     if delta(i,j,p,q) <= model.r[d] )\n",
    "\n",
    "model.cons_covering = pyopt.Constraint(model.M, rule=cons_covering)\n",
    "\n",
    "def cons_assignment(model, d):\n",
    "    return pyopt.sum(model.x[d,i,j] for (i,j) in model.M) <= 1\n",
    "\n",
    "model.cons_assignment = pyopt.Constraint(model.D, rule=cons_assignment)"
   ]
  },
  {
   "cell_type": "markdown",
   "metadata": {
    "slideshow": {
     "slide_type": "slide"
    }
   },
   "source": [
    "## Solving the model\n",
    "\n",
    "We create the instance (populating data) and run the solving process:"
   ]
  },
  {
   "cell_type": "code",
   "execution_count": 118,
   "metadata": {},
   "outputs": [
    {
     "name": "stdout",
     "output_type": "stream",
     "text": [
      "\n",
      "Problem: \n",
      "- Name: unknown\n",
      "  Lower bound: 155.0\n",
      "  Upper bound: 155.0\n",
      "  Number of objectives: 1\n",
      "  Number of constraints: 232\n",
      "  Number of variables: 1576\n",
      "  Number of nonzeros: 31610\n",
      "  Sense: maximize\n",
      "Solver: \n",
      "- Status: ok\n",
      "  Termination condition: optimal\n",
      "  Statistics: \n",
      "    Branch and bound: \n",
      "      Number of bounded subproblems: 623\n",
      "      Number of created subproblems: 623\n",
      "  Error rc: 0\n",
      "  Time: 19.86684775352478\n",
      "Solution: \n",
      "- number of solutions: 0\n",
      "  number of solutions displayed: 0\n",
      "\n"
     ]
    }
   ],
   "source": [
    "instance = model.create_instance()\n",
    "solver = pyopt.SolverFactory('glpk')\n",
    "results = solver.solve(instance)\n",
    "print(results)"
   ]
  },
  {
   "cell_type": "markdown",
   "metadata": {
    "slideshow": {
     "slide_type": "subslide"
    }
   },
   "source": [
    "We can display the value of the solution and also the statistics:"
   ]
  },
  {
   "cell_type": "code",
   "execution_count": 119,
   "metadata": {},
   "outputs": [
    {
     "name": "stdout",
     "output_type": "stream",
     "text": [
      "Supervised area: 155 dots\n",
      "Percentage: 68.9%\n",
      "Status of the solver: optimal\n"
     ]
    }
   ],
   "source": [
    "print(\"Supervised area: {:.0f} dots\".format(pyopt.value(instance.z)))\n",
    "print(\"Percentage: {:.1%}\".format( pyopt.value(instance.z) / len(instance.M) ))\n",
    "print(\"Status of the solver: {}\".format(results.Solver.Termination_condition))"
   ]
  },
  {
   "cell_type": "markdown",
   "metadata": {
    "slideshow": {
     "slide_type": "subslide"
    }
   },
   "source": [
    "And plot the resulting map"
   ]
  },
  {
   "cell_type": "code",
   "execution_count": 101,
   "metadata": {},
   "outputs": [
    {
     "data": {
      "image/png": "[encoded data removed]",
      "text/plain": [
       "<matplotlib.figure.Figure at 0x7f5be1c05c18>"
      ]
     },
     "metadata": {},
     "output_type": "display_data"
    }
   ],
   "source": [
    "covered_dots = [(i,j) for (i,j), v in instance.y.iteritems() if v.value > 0]\n",
    "drones = [(i, j, instance.r[d]) for (d, i, j), v in instance.x.iteritems() if v.value > 0]\n",
    "draw_map(m-1, n-1, covered_dots, drones)"
   ]
  },
  {
   "cell_type": "code",
   "execution_count": null,
   "metadata": {},
   "outputs": [],
   "source": []
  }
 ],
 "metadata": {
  "celltoolbar": "Slideshow",
  "kernelspec": {
   "display_name": "Python 3",
   "language": "python",
   "name": "python3"
  },
  "language_info": {
   "codemirror_mode": {
    "name": "ipython",
    "version": 3
   },
   "file_extension": ".py",
   "mimetype": "text/x-python",
   "name": "python",
   "nbconvert_exporter": "python",
   "pygments_lexer": "ipython3",
   "version": "3.6.4"
  }
 },
 "nbformat": 4,
 "nbformat_minor": 2
}
