{
 "cells": [
  {
   "cell_type": "markdown",
   "metadata": {
    "slideshow": {
     "slide_type": "-"
    }
   },
   "source": [
    "# Drones surveillance\n",
    "\n",
    "A set of drones must be used to supervise an area. \n",
    "The area has a rectangular shape and can be discretized as a set of points to supervise.\n",
    "\n",
    "The following plot is an example of a drone supervising a part of the area:\n",
    "the dots are the spot we want to supervise, the red ones are the supervised ones, and the blue circle is the area covered by the drone camera."
   ]
  },
  {
   "cell_type": "code",
   "execution_count": null,
   "metadata": {},
   "outputs": [],
   "source": [
    "import matplotlib.pyplot as plt\n",
    "import itertools\n",
    "\n",
    "def draw_grid(canvas,w,h,coord):\n",
    "    canvas.set_facecolor('#C3CC73')\n",
    "    canvas.set_ylim([0,h])\n",
    "    canvas.set_xlim([0,w])\n",
    "    canvas.set_xticks(range(0,w,1))\n",
    "    canvas.set_yticks(range(0,h,1))\n",
    "    canvas.grid()\n",
    "    grid_dots = list(itertools.product(range(0,w+1), range(0,h+1)))\n",
    "    gc.scatter([c[0] for c in grid_dots],[c[1] for c in grid_dots], color='#000000', zorder=0)\n",
    "    gc.scatter([c[0] for c in coord],[c[1] for c in coord], color='#820D10', zorder=2)\n",
    "\n",
    "def draw_drone(canvas, x, y, radius):\n",
    "    gc.add_artist(plt.Circle((x,y), radius, zorder=1, color='#516C88'))\n",
    "    \n",
    "plt.figure(figsize=(8,8))\n",
    "gc = plt.gcf().gca()\n",
    "draw_grid(gc, 10, 10, [(3,3),(3,4),(3,5),(4,3),(4,4),(4,5),(5,3),(5,4),(5,5)])\n",
    "draw_drone(gc, 4.0, 4.0, 1.7)\n",
    "plt.show()"
   ]
  },
  {
   "cell_type": "markdown",
   "metadata": {},
   "source": [
    "The goal is to maximize the supervised area.\n",
    "\n",
    "## Data\n",
    "\n",
    "$D:$ set of available drones  \n",
    "$n,m:$ size in dots of the rectangular area  \n",
    "$M = \\{(i,j) : 0 \\le i \\le n, 0 \\le j \\le m, \\}: $ set of coordinates  \n",
    "$r_d:$ surveillance radius of drone $d \\in D$  \n",
    "$\\delta(p_1, p_2):$ function computing the euclidean distance between two dots\n",
    "\n",
    "\n",
    "## variables\n",
    "\n",
    "$x_{dp}:$ $1$ if drone $d$ is placed in coordinate $p$  \n",
    "$y_{p}:$ $1$ if coordinate $p$ is supervised\n",
    "\n",
    "## Objective function\n",
    "\n",
    "Maximize the supervised area (in terms of supervised dots)\n",
    "$$z = \\max \\sum_{p \\in M} y_{p}$$\n",
    "\n",
    "## Constraints\n",
    "\n",
    "Each drone cannot be placed in two different coordinates\n",
    "$$ \\sum_{p \\in M} x_{dp} \\le 1, \\forall {d \\in D}$$\n",
    "\n",
    "Each dot is supervised only if it within the radius of a drone\n",
    "$$ y_{p} \\le \\sum_{d \\in D} \\sum_{q \\in M : \\delta(p, q ) \\le r_d } x_{dq}, \\forall p \\in M$$\n",
    "\n",
    "\n",
    "## Implementation\n",
    "\n",
    "Creation of the abstrat model"
   ]
  },
  {
   "cell_type": "code",
   "execution_count": null,
   "metadata": {},
   "outputs": [],
   "source": [
    "import pyomo.environ as pyopt\n",
    "\n",
    "model = pyopt.AbstractModel(\"Drone surveillance\")"
   ]
  },
  {
   "cell_type": "markdown",
   "metadata": {},
   "source": [
    "The dimensions of the area are set in an arbitrary manner, then the set $M$ is created as the cross product of the sets of the two dimensions of the area:"
   ]
  },
  {
   "cell_type": "code",
   "execution_count": null,
   "metadata": {},
   "outputs": [],
   "source": [
    "m = 15\n",
    "n = 15\n",
    "drones = range(6)\n",
    "\n",
    "model.D = pyopt.Set(initialize=drones)\n",
    "model.m = pyopt.Set(initialize=range(m))\n",
    "model.n = pyopt.Set(initialize=range(n))\n",
    "model.M = model.m * model.n"
   ]
  },
  {
   "cell_type": "markdown",
   "metadata": {},
   "source": [
    "The only parameter required is the drone radius:"
   ]
  },
  {
   "cell_type": "code",
   "execution_count": null,
   "metadata": {},
   "outputs": [],
   "source": [
    "import random\n",
    "model.r = pyopt.Param(model.D, initialize={i:random.randrange(2,4) for i in drones})"
   ]
  },
  {
   "cell_type": "markdown",
   "metadata": {},
   "source": [
    "All variables are binary:"
   ]
  },
  {
   "cell_type": "code",
   "execution_count": null,
   "metadata": {},
   "outputs": [],
   "source": [
    "model.x = pyopt.Var(model.D, model.M, within=pyopt.Binary)\n",
    "model.y = pyopt.Var(model.M, within=pyopt.Binary)"
   ]
  },
  {
   "cell_type": "markdown",
   "metadata": {},
   "source": [
    "The objective function is to maximize the number of dots supervised:"
   ]
  },
  {
   "cell_type": "code",
   "execution_count": null,
   "metadata": {},
   "outputs": [],
   "source": [
    "def objective_function(model):\n",
    "    return pyopt.sum(model.y[i,j] for (i,j) in model.M)\n",
    "\n",
    "model.z = pyopt.Objective(sense=pyopt.maximize, rule=objective_function)"
   ]
  },
  {
   "cell_type": "markdown",
   "metadata": {},
   "source": [
    "Constraints `cons_covering` impose that a dot is supervised only if it is within the radius of a drone, while constraints `cons_assignment` avoid to place a drone more than once:"
   ]
  },
  {
   "cell_type": "code",
   "execution_count": null,
   "metadata": {},
   "outputs": [],
   "source": [
    "import math\n",
    "def delta(x1,y1,x2,y2):\n",
    "    return math.sqrt( math.pow(x1 - x2, 2) + math.pow(y1 - y2, 2) )\n",
    "\n",
    "def cons_covering(model, i, j):\n",
    "    return model.y[i,j] <= pyopt.sum(model.x[d,p,q] \n",
    "                                     for d in model.D for (p,q) in model.M \n",
    "                                     if delta(i,j,p,q) <= model.r[d] )\n",
    "\n",
    "model.cons_covering = pyopt.Constraint(model.M, rule=cons_covering)\n",
    "\n",
    "def cons_assignment(model, d):\n",
    "    return pyopt.sum(model.x[d,i,j] for (i,j) in model.M) <= 1\n",
    "\n",
    "model.cons_assignment = pyopt.Constraint(model.D, rule=cons_assignment)"
   ]
  },
  {
   "cell_type": "markdown",
   "metadata": {},
   "source": [
    "Once the model is complete, we create the instance and solve the problem."
   ]
  },
  {
   "cell_type": "code",
   "execution_count": null,
   "metadata": {},
   "outputs": [],
   "source": [
    "instance = model.create_instance()\n",
    "solver = pyopt.SolverFactory('glpk')\n",
    "results = solver.solve(instance)\n",
    "print(results)"
   ]
  },
  {
   "cell_type": "markdown",
   "metadata": {},
   "source": [
    "We can select to display or retrieve only part of the result:"
   ]
  },
  {
   "cell_type": "code",
   "execution_count": null,
   "metadata": {},
   "outputs": [],
   "source": [
    "print(results.Solver.Termination_condition)"
   ]
  },
  {
   "cell_type": "code",
   "execution_count": null,
   "metadata": {},
   "outputs": [],
   "source": [
    "plt.figure(figsize=(8,8))\n",
    "gc = plt.gcf().gca()\n",
    "draw_grid(gc, m-1, n-1, [(i,j) for (i,j) in instance.M if instance.y[i,j].value > 0])\n",
    "for d in instance.D:\n",
    "    for (i,j) in instance.M:\n",
    "        if instance.x[d,i,j].value > 0:\n",
    "            draw_drone(gc, i, j, instance.r[d])\n",
    "plt.show()"
   ]
  },
  {
   "cell_type": "code",
   "execution_count": null,
   "metadata": {},
   "outputs": [],
   "source": []
  }
 ],
 "metadata": {
  "kernelspec": {
   "display_name": "Python 3",
   "language": "python",
   "name": "python3"
  },
  "language_info": {
   "codemirror_mode": {
    "name": "ipython",
    "version": 3
   },
   "file_extension": ".py",
   "mimetype": "text/x-python",
   "name": "python",
   "nbconvert_exporter": "python",
   "pygments_lexer": "ipython3",
   "version": "3.6.4"
  }
 },
 "nbformat": 4,
 "nbformat_minor": 2
}
