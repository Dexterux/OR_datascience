{
 "cells": [
  {
   "cell_type": "markdown",
   "metadata": {
    "slideshow": {
     "slide_type": "slide"
    }
   },
   "source": [
    "# Binary Knapsack Problem\n",
    "\n",
    "A knapsack of limited capacity and a set of items are given. Each item has a weight and a profit. The goal is to select a subset of items such that the total profit is maximized and the sum of the weights does not exceed the capacity of the knapsack.\n",
    "\n",
    "![](https://upload.wikimedia.org/wikipedia/commons/thumb/f/fd/Knapsack.svg/486px-Knapsack.svg.png \"Knapsack example. Source: Wikipedia\")"
   ]
  },
  {
   "cell_type": "markdown",
   "metadata": {
    "slideshow": {
     "slide_type": "subslide"
    }
   },
   "source": [
    "## Data\n",
    "\n",
    "$I:$ set of items  \n",
    "$q:$ capacity of the knapsack  \n",
    "$w_i:$ weight of item $i \\in I$  \n",
    "$p_i:$ profit of item $i \\in I$  \n",
    "\n",
    "## Variables\n",
    "\n",
    "$x_i:$ is $1$ if item $i\\in I$ is selected in the knapsack, $0$ otherwise  \n",
    "\n",
    "## Objective function\n",
    "\n",
    "Maximize the profit\n",
    "$$z^* = \\max \\sum_{i \\in I} p_i \\cdot x_i$$\n",
    "\n",
    "## Constraints\n",
    "\n",
    "Do not exceed the knapsack capacity\n",
    "$$\\sum_{i \\in I} w_i \\cdot x_i \\le q$$"
   ]
  },
  {
   "cell_type": "markdown",
   "metadata": {
    "slideshow": {
     "slide_type": "slide"
    }
   },
   "source": [
    "## Model implementation\n",
    "\n",
    "We first import Pyomo environment and create an abstract model:"
   ]
  },
  {
   "cell_type": "code",
   "execution_count": 1,
   "metadata": {
    "slideshow": {
     "slide_type": "-"
    }
   },
   "outputs": [],
   "source": [
    "import pyomo.environ as pyopt\n",
    "\n",
    "model = pyopt.AbstractModel()"
   ]
  },
  {
   "cell_type": "markdown",
   "metadata": {
    "slideshow": {
     "slide_type": "subslide"
    }
   },
   "source": [
    "### Data - Set of items\n",
    "\n",
    "We first declare the set of items $I$: the initialization is done by passing either a list or a function returning a list. In both cases the initialization does not occur until we call method `create_instance()`."
   ]
  },
  {
   "cell_type": "code",
   "execution_count": 2,
   "metadata": {
    "slideshow": {
     "slide_type": "-"
    }
   },
   "outputs": [],
   "source": [
    "model.I = pyopt.Set(initialize=list(range(1,11)))"
   ]
  },
  {
   "cell_type": "markdown",
   "metadata": {
    "slideshow": {
     "slide_type": "subslide"
    }
   },
   "source": [
    "### Data - Parameters\n",
    "\n",
    "Parameters can be initialized at least in three ways:  \n",
    "  1. passing a dictionary (or a single value for non-indexed parameters) \n",
    "  2. passing a function returning a dictionary (or a single value for non-indexed parameters)\n",
    "  3. passing a function taking as argument an index and returning a value  "
   ]
  },
  {
   "cell_type": "code",
   "execution_count": 3,
   "metadata": {
    "slideshow": {
     "slide_type": "-"
    }
   },
   "outputs": [],
   "source": [
    "import random\n",
    "\n",
    "random.seed(0)\n",
    "\n",
    "def getProfits(model):\n",
    "    return {i: random.randrange(10, 50) for i in model.I}\n",
    "\n",
    "def getWeights(model, i):\n",
    "    return random.randrange(1, 10)\n",
    "\n",
    "model.q = pyopt.Param(initialize=20, mutable=True)\n",
    "model.p = pyopt.Param(model.I, initialize=getProfits)\n",
    "model.w = pyopt.Param(model.I, rule=getWeights)"
   ]
  },
  {
   "cell_type": "markdown",
   "metadata": {
    "slideshow": {
     "slide_type": "subslide"
    }
   },
   "source": [
    "### Variables\n",
    "\n",
    "$x_i:$ is $1$ if item $i\\in I$ is selected in the knapsack, $0$ otherwise  \n",
    "\n",
    "We declare the set of variable `x`. Variables are binary and this implicitly imposes that each item can be selected only once in the knapsack."
   ]
  },
  {
   "cell_type": "code",
   "execution_count": 4,
   "metadata": {
    "slideshow": {
     "slide_type": "-"
    }
   },
   "outputs": [],
   "source": [
    "model.x = pyopt.Var(model.I, within=pyopt.Binary)"
   ]
  },
  {
   "cell_type": "markdown",
   "metadata": {
    "slideshow": {
     "slide_type": "subslide"
    }
   },
   "source": [
    "### Objective function\n",
    "\n",
    "$$z^* = \\max \\sum_{i \\in I} p_i \\cdot x_i$$\n",
    "\n",
    "The objective function maximizes the sum of the profits of the selected items."
   ]
  },
  {
   "cell_type": "code",
   "execution_count": 5,
   "metadata": {
    "slideshow": {
     "slide_type": "-"
    }
   },
   "outputs": [],
   "source": [
    "def obj_function(model):\n",
    "    return pyopt.sum(model.p[i] * model.x[i] for i in model.I)\n",
    "\n",
    "model.z = pyopt.Objective(rule=obj_function, sense=pyopt.maximize)"
   ]
  },
  {
   "cell_type": "markdown",
   "metadata": {
    "slideshow": {
     "slide_type": "subslide"
    }
   },
   "source": [
    "### Constraints\n",
    "\n",
    "$$\\sum_{i \\in I} w_i \\cdot x_i \\le q$$\n",
    "\n",
    "Finally, we create the single contraint ensuring that the total weight of the selected items does not exceeds the knapsack capacity. Constraints can be created by using a function returning an expression"
   ]
  },
  {
   "cell_type": "code",
   "execution_count": 6,
   "metadata": {
    "slideshow": {
     "slide_type": "-"
    }
   },
   "outputs": [],
   "source": [
    "def cons_capacity(model):\n",
    "    return pyopt.sum( model.w[i] * model.x[i] for i in model.I) <= model.q\n",
    "\n",
    "model.cons_capacity = pyopt.Constraint(rule=cons_capacity)"
   ]
  },
  {
   "cell_type": "markdown",
   "metadata": {
    "slideshow": {
     "slide_type": "subslide"
    }
   },
   "source": [
    "A summary of the abstract model can be displayed. All sets have size equal to 0 because the model has not been initialized yet."
   ]
  },
  {
   "cell_type": "code",
   "execution_count": 7,
   "metadata": {
    "slideshow": {
     "slide_type": "-"
    }
   },
   "outputs": [
    {
     "name": "stdout",
     "output_type": "stream",
     "text": [
      "1 Set Declarations\n",
      "    I : Dim=0, Dimen=1, Size=0, Domain=None, Ordered=False, Bounds=None\n",
      "        Not constructed\n",
      "\n",
      "3 Param Declarations\n",
      "    p : Size=0, Index=I, Domain=Any, Default=None, Mutable=False\n",
      "        Not constructed\n",
      "    q : Size=1, Index=None, Domain=Any, Default=None, Mutable=True\n",
      "        Not constructed\n",
      "    w : Size=0, Index=I, Domain=Any, Default=None, Mutable=False\n",
      "        Not constructed\n",
      "\n",
      "1 Var Declarations\n",
      "    x : Size=0, Index=I\n",
      "        Not constructed\n",
      "\n",
      "1 Objective Declarations\n",
      "    z : Size=0, Index=None, Active=True\n",
      "        Not constructed\n",
      "\n",
      "1 Constraint Declarations\n",
      "    cons_capacity : Size=0, Index=None, Active=True\n",
      "        Not constructed\n",
      "\n",
      "7 Declarations: I q p w x z cons_capacity\n"
     ]
    }
   ],
   "source": [
    "model.pprint()"
   ]
  },
  {
   "cell_type": "markdown",
   "metadata": {
    "slideshow": {
     "slide_type": "slide"
    }
   },
   "source": [
    "## Solving the model\n",
    "\n",
    "First, the elements of the model must be initialized by invoking method `create_instance()`"
   ]
  },
  {
   "cell_type": "code",
   "execution_count": 8,
   "metadata": {
    "slideshow": {
     "slide_type": "-"
    }
   },
   "outputs": [
    {
     "name": "stdout",
     "output_type": "stream",
     "text": [
      "Model unknown\n",
      "\n",
      "  Variables:\n",
      "    x : Size=10, Index=I\n",
      "        Key : Lower : Value : Upper : Fixed : Stale : Domain\n",
      "          1 :     0 :  None :     1 : False :  True : Binary\n",
      "          2 :     0 :  None :     1 : False :  True : Binary\n",
      "          3 :     0 :  None :     1 : False :  True : Binary\n",
      "          4 :     0 :  None :     1 : False :  True : Binary\n",
      "          5 :     0 :  None :     1 : False :  True : Binary\n",
      "          6 :     0 :  None :     1 : False :  True : Binary\n",
      "          7 :     0 :  None :     1 : False :  True : Binary\n",
      "          8 :     0 :  None :     1 : False :  True : Binary\n",
      "          9 :     0 :  None :     1 : False :  True : Binary\n",
      "         10 :     0 :  None :     1 : False :  True : Binary\n",
      "\n",
      "  Objectives:\n",
      "    z : Size=1, Index=None, Active=True\n",
      "ERROR: evaluating expression: No value for uninitialized NumericValue object x[1]\n",
      "\t    (expression: 34*x[1] + 36*x[2] + 12*x[3] + 26*x[4] + 42*x[5] + 41*x[6] + 35*x[7] + 29*x[8] + 40*x[9] + 32*x[10])\n",
      "ERROR: evaluating object as numeric value: z\n",
      "\t    (object: <class 'pyomo.core.base.objective.SimpleObjective'>)\n",
      "\tNo value for uninitialized NumericValue object x[1]\n",
      "        Key : Active : Value\n",
      "        None :   None :  None\n",
      "\n",
      "  Constraints:\n",
      "    cons_capacity : Size=1\n",
      "ERROR: evaluating expression: No value for uninitialized NumericValue object x[1]\n",
      "\t    (expression: 4*x[1] + 9*x[2] + 3*x[3] + 5*x[4] + 3*x[5] + 2*x[6] + 5*x[7] + 9*x[8] + 3*x[9] + 5*x[10])\n",
      "        Key : Lower : Body : Upper\n",
      "        None :  None : None :  None\n"
     ]
    }
   ],
   "source": [
    "instance = model.create_instance()\n",
    "instance.display()"
   ]
  },
  {
   "cell_type": "markdown",
   "metadata": {
    "slideshow": {
     "slide_type": "subslide"
    }
   },
   "source": [
    "To solve the model we need to create the interface to a solver and start the optimization process"
   ]
  },
  {
   "cell_type": "code",
   "execution_count": 9,
   "metadata": {
    "slideshow": {
     "slide_type": "-"
    }
   },
   "outputs": [
    {
     "name": "stdout",
     "output_type": "stream",
     "text": [
      "\n",
      "Problem: \n",
      "- Name: unknown\n",
      "  Lower bound: 204.0\n",
      "  Upper bound: 204.0\n",
      "  Number of objectives: 1\n",
      "  Number of constraints: 2\n",
      "  Number of variables: 11\n",
      "  Number of nonzeros: 11\n",
      "  Sense: maximize\n",
      "Solver: \n",
      "- Status: ok\n",
      "  Termination condition: optimal\n",
      "  Statistics: \n",
      "    Branch and bound: \n",
      "      Number of bounded subproblems: 15\n",
      "      Number of created subproblems: 15\n",
      "  Error rc: 0\n",
      "  Time: 0.008355140686035156\n",
      "Solution: \n",
      "- number of solutions: 0\n",
      "  number of solutions displayed: 0\n",
      "\n"
     ]
    }
   ],
   "source": [
    "solver = pyopt.SolverFactory('glpk')\n",
    "results = solver.solve(instance)\n",
    "print(results)"
   ]
  },
  {
   "cell_type": "markdown",
   "metadata": {
    "slideshow": {
     "slide_type": "subslide"
    }
   },
   "source": [
    "Once the problem is solved, the instance is modified by setting the values of the variables"
   ]
  },
  {
   "cell_type": "code",
   "execution_count": 10,
   "metadata": {
    "slideshow": {
     "slide_type": "-"
    }
   },
   "outputs": [
    {
     "name": "stdout",
     "output_type": "stream",
     "text": [
      "Model unknown\n",
      "\n",
      "  Variables:\n",
      "    x : Size=10, Index=I\n",
      "        Key : Lower : Value : Upper : Fixed : Stale : Domain\n",
      "          1 :     0 :   1.0 :     1 : False : False : Binary\n",
      "          2 :     0 :   0.0 :     1 : False : False : Binary\n",
      "          3 :     0 :   1.0 :     1 : False : False : Binary\n",
      "          4 :     0 :   0.0 :     1 : False : False : Binary\n",
      "          5 :     0 :   1.0 :     1 : False : False : Binary\n",
      "          6 :     0 :   1.0 :     1 : False : False : Binary\n",
      "          7 :     0 :   1.0 :     1 : False : False : Binary\n",
      "          8 :     0 :   0.0 :     1 : False : False : Binary\n",
      "          9 :     0 :   1.0 :     1 : False : False : Binary\n",
      "         10 :     0 :   0.0 :     1 : False : False : Binary\n",
      "\n",
      "  Objectives:\n",
      "    z : Size=1, Index=None, Active=True\n",
      "        Key  : Active : Value\n",
      "        None :   True : 204.0\n",
      "\n",
      "  Constraints:\n",
      "    cons_capacity : Size=1\n",
      "        Key  : Lower : Body : Upper\n",
      "        None :  None : 20.0 :    20\n"
     ]
    }
   ],
   "source": [
    "instance.display()"
   ]
  },
  {
   "cell_type": "markdown",
   "metadata": {
    "slideshow": {
     "slide_type": "subslide"
    }
   },
   "source": [
    "Variable values can be easily retrieved after the problem is solved:"
   ]
  },
  {
   "cell_type": "code",
   "execution_count": 11,
   "metadata": {
    "slideshow": {
     "slide_type": "-"
    }
   },
   "outputs": [
    {
     "name": "stdout",
     "output_type": "stream",
     "text": [
      "Knapsack of value 204.0\n",
      "x[1] = 1\n",
      "Selected items: 1, 3, 5, 6, 7, 9\n"
     ]
    }
   ],
   "source": [
    "print(\"Knapsack of value {:.1f}\".format(pyopt.value(instance.z)))\n",
    "print(\"x[1] = {:.0f}\".format(instance.x[1].value))\n",
    "print(\"Selected items: \" + \", \".join(str(i) for i, v in instance.x.iteritems() if v.value > 0)  )"
   ]
  },
  {
   "cell_type": "markdown",
   "metadata": {
    "slideshow": {
     "slide_type": "slide"
    }
   },
   "source": [
    "## Parametric analysis\n",
    "\n",
    "When parameters are created setting `mutable=True`, they can be modified after the solving process. This allows  the user to perform parametric analysis"
   ]
  },
  {
   "cell_type": "code",
   "execution_count": 12,
   "metadata": {
    "slideshow": {
     "slide_type": "-"
    }
   },
   "outputs": [
    {
     "name": "stdout",
     "output_type": "stream",
     "text": [
      "Knapsack of value 262.0\n"
     ]
    }
   ],
   "source": [
    "instance.q.set_value(30)\n",
    "results = solver.solve(instance)\n",
    "print(\"Knapsack of value {:.1f}\".format(pyopt.value(instance.z)))"
   ]
  },
  {
   "cell_type": "markdown",
   "metadata": {
    "slideshow": {
     "slide_type": "subslide"
    }
   },
   "source": [
    "For example to watch how much the profit changes when the capacity increases:"
   ]
  },
  {
   "cell_type": "code",
   "execution_count": 13,
   "metadata": {
    "slideshow": {
     "slide_type": "-"
    }
   },
   "outputs": [
    {
     "data": {
      "image/png": "[encoded data removed]",
      "text/plain": [
       "<matplotlib.figure.Figure at 0x7fe84834bda0>"
      ]
     },
     "metadata": {},
     "output_type": "display_data"
    }
   ],
   "source": [
    "qs = list(range(20, 50, 5))\n",
    "\n",
    "def parametric_analysis(q):\n",
    "    instance.q.set_value(q)\n",
    "    solver.solve(instance)\n",
    "    return pyopt.value(instance.z)\n",
    "\n",
    "import matplotlib.pyplot as plt\n",
    "%matplotlib inline\n",
    "values = list(map(parametric_analysis, qs))\n",
    "plt.plot(qs, values)\n",
    "plt.ylabel('knapsack value')\n",
    "plt.xlabel('knapsack capacity')\n",
    "plt.show()"
   ]
  }
 ],
 "metadata": {
  "celltoolbar": "Slideshow",
  "kernelspec": {
   "display_name": "Python 3",
   "language": "python",
   "name": "python3"
  },
  "language_info": {
   "codemirror_mode": {
    "name": "ipython",
    "version": 3
   },
   "file_extension": ".py",
   "mimetype": "text/x-python",
   "name": "python",
   "nbconvert_exporter": "python",
   "pygments_lexer": "ipython3",
   "version": "3.6.4"
  }
 },
 "nbformat": 4,
 "nbformat_minor": 2
}
