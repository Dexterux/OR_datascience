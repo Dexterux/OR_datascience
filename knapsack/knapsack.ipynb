{
 "cells": [
  {
   "cell_type": "markdown",
   "metadata": {},
   "source": [
    "# Binary Knapsack Problem\n",
    "\n",
    "A knapsack of limited capacity and a set of items are given. Each item is characterized by a weight and a profit. \n",
    "The goal is to select a subset of items such that the total profit is maximized and the sum of the weights does not exceed the capacity of the knapsack.\n",
    "\n",
    "## Data\n",
    "\n",
    "$I:$ set of items  \n",
    "$q:$ capacity of the knapsack  \n",
    "$w_i:$ weight of item $i \\in I$  \n",
    "$p_i:$ profit of item $i \\in I$  \n",
    "\n",
    "## Variables\n",
    "\n",
    "$x_i:$ is $1$ if item $i\\in I$ is selected in the knapsack\n",
    "\n",
    "## Objective function\n",
    "\n",
    "Maximize the profit\n",
    "$$z^* = \\max \\sum_{i \\in I} p_i \\cdot x_i$$\n",
    "\n",
    "## Constraints\n",
    "\n",
    "Do not exceed the knapsack capacity\n",
    "$$\\sum_{i \\in I} w_i \\cdot x_i \\le q$$\n",
    "\n",
    "## Implementation\n",
    "\n",
    "We first import Pyomo environment and create an abstract model:"
   ]
  },
  {
   "cell_type": "code",
   "execution_count": null,
   "metadata": {},
   "outputs": [],
   "source": [
    "import pyomo.environ as pyopt\n",
    "\n",
    "model = pyopt.AbstractModel(\"Knapsack problem\")"
   ]
  },
  {
   "cell_type": "markdown",
   "metadata": {},
   "source": [
    "We first declare the set of items: the initialization can be done by passing either a list or a function returning a list. In both cases the initialization does not occur until we recur to method `create_instance()`."
   ]
  },
  {
   "cell_type": "code",
   "execution_count": null,
   "metadata": {},
   "outputs": [],
   "source": [
    "model.I = pyopt.Set(initialize=list(range(1,11)))"
   ]
  },
  {
   "cell_type": "markdown",
   "metadata": {},
   "source": [
    "We create parameters with random values. The initialization of parameters `p` and `w` is done using functions that will be called after the initialization of set `I`."
   ]
  },
  {
   "cell_type": "code",
   "execution_count": null,
   "metadata": {},
   "outputs": [],
   "source": [
    "import random\n",
    "\n",
    "random.seed(0)\n",
    "\n",
    "def getProfits(model):\n",
    "    return {i: random.randrange(10, 50)  for i in model.I}\n",
    "\n",
    "def getWeights(model):\n",
    "    return {i: random.randrange(1, 10) for i in model.I}\n",
    "\n",
    "model.p = pyopt.Param(model.I, initialize=getProfits)\n",
    "model.w = pyopt.Param(model.I, initialize=getWeights)\n",
    "model.q = pyopt.Param(initialize=20, mutable=True)"
   ]
  },
  {
   "cell_type": "markdown",
   "metadata": {},
   "source": [
    "The we declare the set of variable `x`. Variables are binary and this implicitly impose that each item can be selected only once in the knapsack."
   ]
  },
  {
   "cell_type": "code",
   "execution_count": null,
   "metadata": {},
   "outputs": [],
   "source": [
    "model.x = pyopt.Var(model.I, within=pyopt.Binary)"
   ]
  },
  {
   "cell_type": "markdown",
   "metadata": {},
   "source": [
    "The objective function maximize the sum of the profits of the selected items:"
   ]
  },
  {
   "cell_type": "code",
   "execution_count": null,
   "metadata": {},
   "outputs": [],
   "source": [
    "def obj_function(model):\n",
    "    return pyopt.sum(model.p[i] * model.x[i] for i in model.I)\n",
    "\n",
    "model.z = pyopt.Objective(rule=obj_function, sense=pyopt.maximize)"
   ]
  },
  {
   "cell_type": "markdown",
   "metadata": {},
   "source": [
    "Finally, we create the contraint ensuring that the total weight of the selected items does not exceeds the knapsack capacity. Constraints can be created using a function returning an expression"
   ]
  },
  {
   "cell_type": "code",
   "execution_count": null,
   "metadata": {},
   "outputs": [],
   "source": [
    "def cons_capacity(model):\n",
    "    return pyopt.sum( model.w[i] * model.x[i] for i in model.I) <= model.q\n",
    "\n",
    "model.cons_capacity = pyopt.Constraint(rule=cons_capacity)"
   ]
  },
  {
   "cell_type": "markdown",
   "metadata": {},
   "source": [
    "A summary of the abstract model can be displayed. All sets has size equal to 0 because the model has not been initialized yet."
   ]
  },
  {
   "cell_type": "code",
   "execution_count": null,
   "metadata": {},
   "outputs": [],
   "source": [
    "model.pprint()"
   ]
  },
  {
   "cell_type": "markdown",
   "metadata": {},
   "source": [
    "To solve the problem we have to \n",
    "  1) initialize the instance by invoking method `create_instance()`\n",
    "  2) create the interface to a solver\n",
    "  3) ask the solver to start the optimization process"
   ]
  },
  {
   "cell_type": "code",
   "execution_count": null,
   "metadata": {},
   "outputs": [],
   "source": [
    "instance = model.create_instance()\n",
    "solver = pyopt.SolverFactory('glpk')\n",
    "results = solver.solve(instance)"
   ]
  },
  {
   "cell_type": "markdown",
   "metadata": {},
   "source": [
    "The result can be printed to display the status of the solver at the end of the optimization phase, the value of the objective function, and other useful information:"
   ]
  },
  {
   "cell_type": "code",
   "execution_count": null,
   "metadata": {},
   "outputs": [],
   "source": [
    "print(results)"
   ]
  },
  {
   "cell_type": "markdown",
   "metadata": {},
   "source": [
    "The instance is modified by setting the values of the variables. Details of the solution can be displayed invoking method `display()`"
   ]
  },
  {
   "cell_type": "code",
   "execution_count": null,
   "metadata": {},
   "outputs": [],
   "source": [
    "instance.display()"
   ]
  },
  {
   "cell_type": "markdown",
   "metadata": {},
   "source": [
    "Variable values can be easily retrieved after the problem is solved:"
   ]
  },
  {
   "cell_type": "code",
   "execution_count": null,
   "metadata": {},
   "outputs": [],
   "source": [
    "print(\"x[1] = %d\" % instance.x[1].value)\n",
    "print(\"Selected items: %s\" % \", \".join(str(i) for i, v in instance.x.iteritems() if v.value > 0)  )"
   ]
  },
  {
   "cell_type": "markdown",
   "metadata": {},
   "source": [
    "When parameters are created setting argument `mutable=True`, they can be modified after creating the instance, and the modified instance can be solved again"
   ]
  },
  {
   "cell_type": "code",
   "execution_count": null,
   "metadata": {},
   "outputs": [],
   "source": [
    "instance.q.set_value(30)\n",
    "results = solver.solve(instance)"
   ]
  },
  {
   "cell_type": "markdown",
   "metadata": {},
   "source": [
    "In such a way we can perform parametric analysis, for example to watch how the profit of the knapsack changes when the capacity increases:"
   ]
  },
  {
   "cell_type": "code",
   "execution_count": null,
   "metadata": {},
   "outputs": [],
   "source": [
    "qs = list(range(20, 50, 5))\n",
    "\n",
    "def parametric_analysis(q):\n",
    "    instance.q.set_value(q)\n",
    "    solver.solve(instance)\n",
    "    return pyopt.value(instance.z)\n",
    "\n",
    "import matplotlib.pyplot as plt\n",
    "plt.plot(qs, list(map(parametric_analysis, qs)))\n",
    "plt.ylabel('knapsack value')\n",
    "plt.xlabel('knapsack capacity')\n",
    "plt.show()"
   ]
  }
 ],
 "metadata": {
  "kernelspec": {
   "display_name": "Python 3",
   "language": "python",
   "name": "python3"
  },
  "language_info": {
   "codemirror_mode": {
    "name": "ipython",
    "version": 3
   },
   "file_extension": ".py",
   "mimetype": "text/x-python",
   "name": "python",
   "nbconvert_exporter": "python",
   "pygments_lexer": "ipython3",
   "version": "3.6.4"
  }
 },
 "nbformat": 4,
 "nbformat_minor": 2
}
